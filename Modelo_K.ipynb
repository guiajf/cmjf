{
  "cells": [
    {
      "cell_type": "code",
      "execution_count": null,
      "metadata": {
        "id": "7xXSKt4mbBIL"
      },
      "outputs": [],
      "source": [
        "import numpy as np\n",
        "import cv2\n",
        "import os\n",
        "import zipfile\n",
        "from PIL import Image\n",
        "import tensorflow as tf"
      ]
    },
    {
      "cell_type": "code",
      "execution_count": null,
      "metadata": {
        "colab": {
          "base_uri": "https://localhost:8080/"
        },
        "id": "pD-8crTwB-Z0",
        "outputId": "b2764977-0dd1-404b-fefc-a82d767193a7"
      },
      "outputs": [
        {
          "output_type": "stream",
          "name": "stdout",
          "text": [
            "Mounted at /content/drive\n"
          ]
        }
      ],
      "source": [
        "from google.colab import drive\n",
        "drive.mount('/content/drive')"
      ]
    },
    {
      "cell_type": "code",
      "execution_count": null,
      "metadata": {
        "colab": {
          "base_uri": "https://localhost:8080/"
        },
        "id": "KhaCvu2h3nCb",
        "outputId": "a74260f5-29e7-4d5f-dd57-4045198d565c"
      },
      "outputs": [
        {
          "name": "stdout",
          "output_type": "stream",
          "text": [
            "Requirement already satisfied: requests in /usr/local/lib/python3.10/dist-packages (2.31.0)\n",
            "Requirement already satisfied: charset-normalizer<4,>=2 in /usr/local/lib/python3.10/dist-packages (from requests) (3.3.2)\n",
            "Requirement already satisfied: idna<4,>=2.5 in /usr/local/lib/python3.10/dist-packages (from requests) (3.6)\n",
            "Requirement already satisfied: urllib3<3,>=1.21.1 in /usr/local/lib/python3.10/dist-packages (from requests) (2.0.7)\n",
            "Requirement already satisfied: certifi>=2017.4.17 in /usr/local/lib/python3.10/dist-packages (from requests) (2023.11.17)\n"
          ]
        }
      ],
      "source": [
        "%pip install requests"
      ]
    },
    {
      "cell_type": "code",
      "execution_count": null,
      "metadata": {
        "colab": {
          "base_uri": "https://localhost:8080/"
        },
        "id": "9zuSL3Asb2wh",
        "outputId": "b5a2cb6c-5b39-4805-b0dc-2e357dad1264"
      },
      "outputs": [
        {
          "name": "stdout",
          "output_type": "stream",
          "text": [
            "--2023-11-30 19:49:40--  https://data.lhncbc.nlm.nih.gov/public/Malaria/cell_images.zip\n",
            "Resolving data.lhncbc.nlm.nih.gov (data.lhncbc.nlm.nih.gov)... 108.138.94.6, 108.138.94.36, 108.138.94.100, ...\n",
            "Connecting to data.lhncbc.nlm.nih.gov (data.lhncbc.nlm.nih.gov)|108.138.94.6|:443... connected.\n",
            "HTTP request sent, awaiting response... 200 OK\n",
            "Length: 353452851 (337M) [application/zip]\n",
            "Saving to: ‘/content/drive/MyDrive/ELT579/Problema4/cell_images.zip’\n",
            "\n",
            "cell_images.zip     100%[===================>] 337.08M  41.4MB/s    in 7.0s    \n",
            "\n",
            "2023-11-30 19:49:48 (48.1 MB/s) - ‘/content/drive/MyDrive/ELT579/Problema4/cell_images.zip’ saved [353452851/353452851]\n",
            "\n"
          ]
        }
      ],
      "source": [
        "# Definir o endereço para baixar arquivo\n",
        "!wget -P /content/drive/MyDrive/ELT579/Problema4 https://data.lhncbc.nlm.nih.gov/public/Malaria/cell_images.zip\n"
      ]
    },
    {
      "cell_type": "code",
      "execution_count": null,
      "metadata": {
        "id": "Rxh8sYBx50Ve"
      },
      "outputs": [],
      "source": [
        "# Extrair conteúdo dos arquivos comprimidos\n",
        "local_zip = '/content/drive/MyDrive/ELT579/Problema4/cell_images.zip'\n",
        "zip_ref = zipfile.ZipFile(local_zip, 'r')\n",
        "zip_ref.extractall('/content/drive/MyDrive/ELT579/Problema4')\n",
        "zip_ref.close()"
      ]
    },
    {
      "cell_type": "code",
      "execution_count": null,
      "metadata": {
        "id": "xzVO5Nz79fTs"
      },
      "outputs": [],
      "source": [
        "pasta = '/content/drive/MyDrive/ELT579/Problema4/cell_images/'\n",
        "\n",
        "positivas = os.listdir(pasta + 'Parasitized/')\n",
        "\n",
        "negativas = os.listdir(pasta + 'Uninfected/')"
      ]
    },
    {
      "cell_type": "code",
      "execution_count": null,
      "metadata": {
        "id": "m_6LEadddCbM"
      },
      "outputs": [],
      "source": [
        "dataset = list()\n",
        "\n",
        "label = list()\n",
        "\n",
        "SIZE = 64\n",
        "\n",
        "for i, image_name in enumerate(positivas):\n",
        "  if(image_name.split('.')[1] == 'png'):\n",
        "    img = cv2.imread(pasta + 'Parasitized/' + image_name)\n",
        "    img = Image.fromarray(img, 'RGB')\n",
        "    img = img.resize((SIZE, SIZE))\n",
        "    dataset.append(np.array(img))\n",
        "    label.append(1)\n",
        "\n",
        "for i, image_name in enumerate(negativas):\n",
        "  if(image_name.split('.')[1] == 'png'):\n",
        "    img = cv2.imread(pasta + 'Uninfected/' + image_name)\n",
        "    img = Image.fromarray(img, 'RGB')\n",
        "    img = img.resize((SIZE, SIZE))\n",
        "    dataset.append(np.array(img))\n",
        "    label.append(0)"
      ]
    },
    {
      "cell_type": "code",
      "execution_count": null,
      "metadata": {
        "colab": {
          "base_uri": "https://localhost:8080/",
          "height": 484
        },
        "id": "FloEBnQSxT3K",
        "outputId": "49c63b60-29e7-40cd-d12b-00546f384e0c"
      },
      "outputs": [
        {
          "output_type": "stream",
          "name": "stdout",
          "text": [
            "label =  0\n",
            "imagem\n"
          ]
        },
        {
          "output_type": "execute_result",
          "data": {
            "text/plain": [
              "<matplotlib.image.AxesImage at 0x7bdada843070>"
            ]
          },
          "metadata": {},
          "execution_count": 5
        },
        {
          "output_type": "display_data",
          "data": {
            "text/plain": [
              "<Figure size 640x480 with 1 Axes>"
            ],
            "image/png": "[encoded data removed]"
          },
          "metadata": {}
        }
      ],
      "source": [
        "import matplotlib.pyplot as plt\n",
        "\n",
        "print('label = ', label[-2])\n",
        "\n",
        "print('imagem')\n",
        "plt.imshow(dataset[-2])"
      ]
    },
    {
      "cell_type": "code",
      "execution_count": null,
      "metadata": {
        "id": "aAWghSEVKMhB"
      },
      "outputs": [],
      "source": [
        "tf.compat.v1.logging.set_verbosity(tf.compat.v1.logging.ERROR)\n",
        "from keras.utils import to_categorical\n",
        "from keras.applications.vgg16 import VGG16, preprocess_input\n",
        "from keras.models import Model, Sequential\n",
        "from keras.layers import Lambda, Input\n",
        "from keras.optimizers import Adam\n",
        "from keras.layers import Dense, Dropout, Flatten\n",
        "from keras.preprocessing.image import ImageDataGenerator\n"
      ]
    },
    {
      "cell_type": "code",
      "execution_count": null,
      "metadata": {
        "id": "jV7EYjmWyoky"
      },
      "outputs": [],
      "source": [
        "import numpy as np\n",
        "import tensorflow\n",
        "from tensorflow import keras as K\n",
        "from sklearn.model_selection import train_test_split\n",
        "\n",
        "def preprocess_data(X, Y):\n",
        "    \"\"\" This method has the preprocess to train a model \"\"\"\n",
        "    X = X.astype('float32')\n",
        "    X_p = K.applications.vgg16.preprocess_input(X)\n",
        "    Y_p = K.utils.to_categorical(Y, 2)  # Assuming binary classification, adjust accordingly\n",
        "    return (X_p, Y_p)\n",
        "\n",
        "if __name__ == \"__main__\":\n",
        "    # Load your custom dataset\n",
        "    dataset = np.array(dataset)\n",
        "    label = np.array(label)\n",
        "\n",
        "    # Divisão dos dados em treinamento, validação e teste\n",
        "\n",
        "    X_train, X_temp, Y_train, Y_temp = train_test_split(dataset, label, test_size=0.2, random_state=42)\n",
        "    X_val, X_test, Y_val, Y_test = train_test_split(X_temp, Y_temp, test_size=0.5, random_state=42)\n",
        "\n",
        "    # Split the dataset into training and validation sets\n",
        "    #Xt, X, Yt, Y = train_test_split(dataset, label, test_size=0.2, random_state=42)\n",
        "\n",
        "    X_train_p, Y_train_p = preprocess_data(X_train, Y_train)\n",
        "    X_val_p, Y_val_p = preprocess_data(X_val, Y_val)\n",
        "    X_test_p, Y_test_p = preprocess_data(X_test, Y_test)\n",
        "\n",
        "    # Now you can use Xt, Yt for training and X, Y for validation\n",
        "    base_model = K.applications.vgg16.VGG16(include_top=False,\n",
        "                                            weights='imagenet',\n",
        "                                            pooling='avg')\n"
      ]
    },
    {
      "cell_type": "code",
      "execution_count": null,
      "metadata": {
        "colab": {
          "base_uri": "https://localhost:8080/"
        },
        "id": "YGhk8szjIO2n",
        "outputId": "74a7705e-c37f-4da6-99cc-1b15cd3639e8"
      },
      "outputs": [
        {
          "output_type": "stream",
          "name": "stdout",
          "text": [
            "\n",
            "Epoch 1: LearningRateScheduler setting learning rate to 0.001.\n",
            "Epoch 1/20\n",
            "375/375 [==============================] - 56s 136ms/step - loss: 0.2005 - accuracy: 0.9404 - val_loss: 0.1044 - val_accuracy: 0.9686 - lr: 0.0010\n",
            "\n",
            "Epoch 2: LearningRateScheduler setting learning rate to 0.0005.\n",
            "Epoch 2/20\n",
            "375/375 [==============================] - 50s 133ms/step - loss: 0.0757 - accuracy: 0.9710 - val_loss: 0.0707 - val_accuracy: 0.9726 - lr: 5.0000e-04\n",
            "\n",
            "Epoch 3: LearningRateScheduler setting learning rate to 0.0003333333333333333.\n",
            "Epoch 3/20\n",
            "375/375 [==============================] - 50s 134ms/step - loss: 0.0622 - accuracy: 0.9758 - val_loss: 0.0686 - val_accuracy: 0.9773 - lr: 3.3333e-04\n",
            "\n",
            "Epoch 4: LearningRateScheduler setting learning rate to 0.00025.\n",
            "Epoch 4/20\n",
            "375/375 [==============================] - 50s 134ms/step - loss: 0.0587 - accuracy: 0.9779 - val_loss: 0.0572 - val_accuracy: 0.9806 - lr: 2.5000e-04\n",
            "\n",
            "Epoch 5: LearningRateScheduler setting learning rate to 0.0002.\n",
            "Epoch 5/20\n",
            "375/375 [==============================] - 50s 134ms/step - loss: 0.0500 - accuracy: 0.9806 - val_loss: 0.0540 - val_accuracy: 0.9820 - lr: 2.0000e-04\n",
            "\n",
            "Epoch 6: LearningRateScheduler setting learning rate to 0.00016666666666666666.\n",
            "Epoch 6/20\n",
            "375/375 [==============================] - 50s 133ms/step - loss: 0.0476 - accuracy: 0.9830 - val_loss: 0.0550 - val_accuracy: 0.9806 - lr: 1.6667e-04\n",
            "\n",
            "Epoch 7: LearningRateScheduler setting learning rate to 0.00014285714285714287.\n",
            "Epoch 7/20\n",
            "375/375 [==============================] - 50s 135ms/step - loss: 0.0429 - accuracy: 0.9840 - val_loss: 0.0520 - val_accuracy: 0.9833 - lr: 1.4286e-04\n",
            "\n",
            "Epoch 8: LearningRateScheduler setting learning rate to 0.000125.\n",
            "Epoch 8/20\n",
            "375/375 [==============================] - 50s 133ms/step - loss: 0.0382 - accuracy: 0.9861 - val_loss: 0.0540 - val_accuracy: 0.9826 - lr: 1.2500e-04\n",
            "\n",
            "Epoch 9: LearningRateScheduler setting learning rate to 0.00011111111111111112.\n",
            "Epoch 9/20\n",
            "375/375 [==============================] - 50s 134ms/step - loss: 0.0377 - accuracy: 0.9859 - val_loss: 0.0427 - val_accuracy: 0.9846 - lr: 1.1111e-04\n",
            "\n",
            "Epoch 10: LearningRateScheduler setting learning rate to 0.0001.\n",
            "Epoch 10/20\n",
            "375/375 [==============================] - 50s 133ms/step - loss: 0.0338 - accuracy: 0.9880 - val_loss: 0.0543 - val_accuracy: 0.9840 - lr: 1.0000e-04\n",
            "\n",
            "Epoch 11: LearningRateScheduler setting learning rate to 9.090909090909092e-05.\n",
            "Epoch 11/20\n",
            "375/375 [==============================] - 50s 133ms/step - loss: 0.0322 - accuracy: 0.9881 - val_loss: 0.0460 - val_accuracy: 0.9860 - lr: 9.0909e-05\n",
            "\n",
            "Epoch 12: LearningRateScheduler setting learning rate to 8.333333333333333e-05.\n",
            "Epoch 12/20\n",
            "375/375 [==============================] - 50s 133ms/step - loss: 0.0275 - accuracy: 0.9903 - val_loss: 0.0450 - val_accuracy: 0.9833 - lr: 8.3333e-05\n",
            "\n",
            "Epoch 13: LearningRateScheduler setting learning rate to 7.692307692307693e-05.\n",
            "Epoch 13/20\n",
            "375/375 [==============================] - 50s 133ms/step - loss: 0.0232 - accuracy: 0.9918 - val_loss: 0.0465 - val_accuracy: 0.9860 - lr: 7.6923e-05\n",
            "\n",
            "Epoch 14: LearningRateScheduler setting learning rate to 7.142857142857143e-05.\n",
            "Epoch 14/20\n",
            "375/375 [==============================] - 50s 133ms/step - loss: 0.0205 - accuracy: 0.9929 - val_loss: 0.0505 - val_accuracy: 0.9860 - lr: 7.1429e-05\n",
            "\n",
            "Epoch 15: LearningRateScheduler setting learning rate to 6.666666666666667e-05.\n",
            "Epoch 15/20\n",
            "375/375 [==============================] - 50s 132ms/step - loss: 0.0194 - accuracy: 0.9931 - val_loss: 0.0548 - val_accuracy: 0.9853 - lr: 6.6667e-05\n",
            "\n",
            "Epoch 16: LearningRateScheduler setting learning rate to 6.25e-05.\n",
            "Epoch 16/20\n",
            "375/375 [==============================] - 50s 132ms/step - loss: 0.0151 - accuracy: 0.9951 - val_loss: 0.0576 - val_accuracy: 0.9840 - lr: 6.2500e-05\n",
            "\n",
            "Epoch 17: LearningRateScheduler setting learning rate to 5.882352941176471e-05.\n",
            "Epoch 17/20\n",
            "375/375 [==============================] - 50s 133ms/step - loss: 0.0145 - accuracy: 0.9950 - val_loss: 0.0686 - val_accuracy: 0.9853 - lr: 5.8824e-05\n",
            "\n",
            "Epoch 18: LearningRateScheduler setting learning rate to 5.555555555555556e-05.\n",
            "Epoch 18/20\n",
            "375/375 [==============================] - 50s 132ms/step - loss: 0.0128 - accuracy: 0.9955 - val_loss: 0.0572 - val_accuracy: 0.9840 - lr: 5.5556e-05\n",
            "\n",
            "Epoch 19: LearningRateScheduler setting learning rate to 5.2631578947368424e-05.\n",
            "Epoch 19/20\n",
            "375/375 [==============================] - 50s 132ms/step - loss: 0.0097 - accuracy: 0.9966 - val_loss: 0.0587 - val_accuracy: 0.9860 - lr: 5.2632e-05\n",
            "\n",
            "Epoch 20: LearningRateScheduler setting learning rate to 5e-05.\n",
            "Epoch 20/20\n",
            "375/375 [==============================] - 49s 132ms/step - loss: 0.0082 - accuracy: 0.9975 - val_loss: 0.0751 - val_accuracy: 0.9813 - lr: 5.0000e-05\n"
          ]
        }
      ],
      "source": [
        "model= K.Sequential()\n",
        "model.add(K.layers.UpSampling2D())\n",
        "model.add(base_model)\n",
        "model.add(K.layers.Flatten())\n",
        "model.add(K.layers.Dense(512, activation=('relu')))\n",
        "model.add(K.layers.Dropout(0.2))\n",
        "model.add(K.layers.Dense(256, activation=('relu')))\n",
        "model.add(K.layers.Dropout(0.2))\n",
        "model.add(K.layers.Dense(2, activation=('sigmoid')))\n",
        "callback = []\n",
        "def decay(epoch):\n",
        "    \"\"\" This method create the alpha\"\"\"\n",
        "    return 0.001 / (1 + 1 * epoch)\n",
        "callback += [K.callbacks.LearningRateScheduler(decay, verbose=1)]\n",
        "callback += [K.callbacks.ModelCheckpoint('malaria_K3.h5',\n",
        "                                          save_best_only=True,\n",
        "                                          mode='min'\n",
        "                                          )]\n",
        "model.compile(optimizer='adam', loss='binary_crossentropy',\n",
        "              metrics=['accuracy'])\n",
        "\n",
        "history = model.fit(x=X_train_p, y=Y_train_p,\n",
        "          batch_size=32,\n",
        "          validation_data=(X_val_p, Y_val_p),\n",
        "          epochs=20, shuffle=True,\n",
        "          callbacks=callback,\n",
        "          verbose=1\n",
        "          )"
      ]
    },
    {
      "cell_type": "code",
      "execution_count": null,
      "metadata": {
        "colab": {
          "base_uri": "https://localhost:8080/",
          "height": 472
        },
        "id": "JAWyeLrBX4Gy",
        "outputId": "f9bb16ed-1dc0-4452-c0c1-f19049951807"
      },
      "outputs": [
        {
          "output_type": "display_data",
          "data": {
            "text/plain": [
              "<Figure size 640x480 with 1 Axes>"
            ],
            "image/png": "[encoded data removed]"
          },
          "metadata": {}
        }
      ],
      "source": [
        "#plotar gráficos\n",
        "import matplotlib.pyplot as plt\n",
        "\n",
        "loss = history.history['accuracy']\n",
        "val_loss = history.history['val_accuracy']\n",
        "\n",
        "epochs = range(1, len(loss)+ 1)\n",
        "\n",
        "plt.plot(epochs, loss, 'y', label = \"Treinamento\")\n",
        "plt.plot(epochs, val_loss, 'r', label = \"Validação\")\n",
        "\n",
        "plt.title(\"Treinamento versus validação\")\n",
        "plt.xlabel(\"Epocas\")\n",
        "plt.ylabel(\"Acurácia Global\")\n",
        "plt.legend()\n",
        "plt.show()"
      ]
    },
    {
      "cell_type": "code",
      "execution_count": null,
      "metadata": {
        "id": "UYapfZC7tknV"
      },
      "outputs": [],
      "source": [
        "model.save('malaria_K3.h5')"
      ]
    },
    {
      "cell_type": "code",
      "execution_count": null,
      "metadata": {
        "id": "2BIdmQfFkRm6"
      },
      "outputs": [],
      "source": [
        "from keras.models import load_model\n",
        "\n",
        "model = load_model('malaria_K3.h5')"
      ]
    },
    {
      "cell_type": "code",
      "execution_count": null,
      "metadata": {
        "colab": {
          "base_uri": "https://localhost:8080/"
        },
        "id": "HwtNXJsLyjbf",
        "outputId": "0583034a-855a-4e2f-b347-89efd42d3e6f"
      },
      "outputs": [
        {
          "output_type": "stream",
          "name": "stdout",
          "text": [
            "47/47 [==============================] - 2s 39ms/step - loss: 0.0619 - accuracy: 0.9846\n",
            "Test loss: 0.061920762062072754\n",
            "Test accuracy: 0.9846359491348267\n"
          ]
        }
      ],
      "source": [
        "score = model.evaluate(X_test_p, Y_test_p)\n",
        "print('Test loss:', score[0])\n",
        "print('Test accuracy:', score[1])"
      ]
    }
  ],
  "metadata": {
    "accelerator": "GPU",
    "colab": {
      "machine_shape": "hm",
      "provenance": []
    },
    "kernelspec": {
      "display_name": "Python 3",
      "name": "python3"
    },
    "language_info": {
      "name": "python"
    }
  },
  "nbformat": 4,
  "nbformat_minor": 0
}