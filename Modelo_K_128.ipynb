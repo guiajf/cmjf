{
  "cells": [
    {
      "cell_type": "code",
      "execution_count": null,
      "metadata": {
        "id": "7xXSKt4mbBIL"
      },
      "outputs": [],
      "source": [
        "import numpy as np\n",
        "import cv2\n",
        "import os\n",
        "import zipfile\n",
        "from PIL import Image\n",
        "import tensorflow as tf"
      ]
    },
    {
      "cell_type": "code",
      "execution_count": null,
      "metadata": {
        "colab": {
          "base_uri": "https://localhost:8080/"
        },
        "id": "pD-8crTwB-Z0",
        "outputId": "65a01605-80fb-4995-e07f-9e55e35f213b"
      },
      "outputs": [
        {
          "output_type": "stream",
          "name": "stdout",
          "text": [
            "Mounted at /content/drive\n"
          ]
        }
      ],
      "source": [
        "from google.colab import drive\n",
        "drive.mount('/content/drive')"
      ]
    },
    {
      "cell_type": "code",
      "execution_count": null,
      "metadata": {
        "colab": {
          "base_uri": "https://localhost:8080/"
        },
        "id": "KhaCvu2h3nCb",
        "outputId": "a74260f5-29e7-4d5f-dd57-4045198d565c"
      },
      "outputs": [
        {
          "output_type": "stream",
          "name": "stdout",
          "text": [
            "Requirement already satisfied: requests in /usr/local/lib/python3.10/dist-packages (2.31.0)\n",
            "Requirement already satisfied: charset-normalizer<4,>=2 in /usr/local/lib/python3.10/dist-packages (from requests) (3.3.2)\n",
            "Requirement already satisfied: idna<4,>=2.5 in /usr/local/lib/python3.10/dist-packages (from requests) (3.6)\n",
            "Requirement already satisfied: urllib3<3,>=1.21.1 in /usr/local/lib/python3.10/dist-packages (from requests) (2.0.7)\n",
            "Requirement already satisfied: certifi>=2017.4.17 in /usr/local/lib/python3.10/dist-packages (from requests) (2023.11.17)\n"
          ]
        }
      ],
      "source": [
        "%pip install requests"
      ]
    },
    {
      "cell_type": "code",
      "execution_count": null,
      "metadata": {
        "colab": {
          "base_uri": "https://localhost:8080/"
        },
        "id": "9zuSL3Asb2wh",
        "outputId": "b5a2cb6c-5b39-4805-b0dc-2e357dad1264"
      },
      "outputs": [
        {
          "name": "stdout",
          "output_type": "stream",
          "text": [
            "--2023-11-30 19:49:40--  https://data.lhncbc.nlm.nih.gov/public/Malaria/cell_images.zip\n",
            "Resolving data.lhncbc.nlm.nih.gov (data.lhncbc.nlm.nih.gov)... 108.138.94.6, 108.138.94.36, 108.138.94.100, ...\n",
            "Connecting to data.lhncbc.nlm.nih.gov (data.lhncbc.nlm.nih.gov)|108.138.94.6|:443... connected.\n",
            "HTTP request sent, awaiting response... 200 OK\n",
            "Length: 353452851 (337M) [application/zip]\n",
            "Saving to: ‘/content/drive/MyDrive/ELT579/Problema4/cell_images.zip’\n",
            "\n",
            "cell_images.zip     100%[===================>] 337.08M  41.4MB/s    in 7.0s    \n",
            "\n",
            "2023-11-30 19:49:48 (48.1 MB/s) - ‘/content/drive/MyDrive/ELT579/Problema4/cell_images.zip’ saved [353452851/353452851]\n",
            "\n"
          ]
        }
      ],
      "source": [
        "# Definir o endereço para baixar arquivo\n",
        "!wget -P /content/drive/MyDrive/ELT579/Problema4 https://data.lhncbc.nlm.nih.gov/public/Malaria/cell_images.zip\n"
      ]
    },
    {
      "cell_type": "code",
      "execution_count": null,
      "metadata": {
        "id": "Rxh8sYBx50Ve"
      },
      "outputs": [],
      "source": [
        "# Extrair conteúdo dos arquivos comprimidos\n",
        "local_zip = '/content/drive/MyDrive/ELT579/Problema4/cell_images.zip'\n",
        "zip_ref = zipfile.ZipFile(local_zip, 'r')\n",
        "zip_ref.extractall('/content/drive/MyDrive/ELT579/Problema4')\n",
        "zip_ref.close()"
      ]
    },
    {
      "cell_type": "code",
      "source": [],
      "metadata": {
        "id": "5M6hp0wXFG6R"
      },
      "execution_count": null,
      "outputs": []
    },
    {
      "cell_type": "code",
      "execution_count": null,
      "metadata": {
        "id": "xzVO5Nz79fTs"
      },
      "outputs": [],
      "source": [
        "pasta = '/content/drive/MyDrive/ELT579/Problema4/cell_images/'\n",
        "\n",
        "positivas = os.listdir(pasta + 'Parasitized/')\n",
        "\n",
        "negativas = os.listdir(pasta + 'Uninfected/')"
      ]
    },
    {
      "cell_type": "code",
      "execution_count": null,
      "metadata": {
        "id": "m_6LEadddCbM"
      },
      "outputs": [],
      "source": [
        "dataset = list()\n",
        "\n",
        "label = list()\n",
        "\n",
        "SIZE = 64\n",
        "\n",
        "for i, image_name in enumerate(positivas):\n",
        "  if(image_name.split('.')[1] == 'png'):\n",
        "    img = cv2.imread(pasta + 'Parasitized/' + image_name)\n",
        "    img = Image.fromarray(img, 'RGB')\n",
        "    img = img.resize((SIZE, SIZE))\n",
        "    dataset.append(np.array(img))\n",
        "    label.append(1)\n",
        "\n",
        "for i, image_name in enumerate(negativas):\n",
        "  if(image_name.split('.')[1] == 'png'):\n",
        "    img = cv2.imread(pasta + 'Uninfected/' + image_name)\n",
        "    img = Image.fromarray(img, 'RGB')\n",
        "    img = img.resize((SIZE, SIZE))\n",
        "    dataset.append(np.array(img))\n",
        "    label.append(0)"
      ]
    },
    {
      "cell_type": "code",
      "execution_count": null,
      "metadata": {
        "colab": {
          "base_uri": "https://localhost:8080/",
          "height": 484
        },
        "id": "FloEBnQSxT3K",
        "outputId": "3ba6185d-9712-495f-83f6-6f9acb020732"
      },
      "outputs": [
        {
          "name": "stdout",
          "output_type": "stream",
          "text": [
            "label =  0\n",
            "imagem\n"
          ]
        },
        {
          "data": {
            "text/plain": [
              "<matplotlib.image.AxesImage at 0x7d5c70dae860>"
            ]
          },
          "execution_count": 11,
          "metadata": {},
          "output_type": "execute_result"
        },
        {
          "data": {
            "image/png": "[encoded data removed]",
            "text/plain": [
              "<Figure size 640x480 with 1 Axes>"
            ]
          },
          "metadata": {},
          "output_type": "display_data"
        }
      ],
      "source": [
        "import matplotlib.pyplot as plt\n",
        "\n",
        "print('label = ', label[-2])\n",
        "\n",
        "print('imagem')\n",
        "plt.imshow(dataset[-2])"
      ]
    },
    {
      "cell_type": "code",
      "execution_count": null,
      "metadata": {
        "id": "aAWghSEVKMhB"
      },
      "outputs": [],
      "source": [
        "tf.compat.v1.logging.set_verbosity(tf.compat.v1.logging.ERROR)\n",
        "from keras.utils import to_categorical\n",
        "from keras.applications.vgg16 import VGG16, preprocess_input\n",
        "from keras.models import Model, Sequential\n",
        "from keras.layers import Lambda, Input\n",
        "from keras.optimizers import Adam\n",
        "from keras.layers import Dense, Dropout, Flatten\n",
        "from keras.preprocessing.image import ImageDataGenerator\n"
      ]
    },
    {
      "cell_type": "code",
      "execution_count": null,
      "metadata": {
        "id": "jV7EYjmWyoky"
      },
      "outputs": [],
      "source": [
        "import numpy as np\n",
        "import tensorflow.keras as K\n",
        "from sklearn.model_selection import train_test_split\n",
        "\n",
        "def preprocess_data(X, Y):\n",
        "    \"\"\" This method has the preprocess to train a model \"\"\"\n",
        "    X = X.astype('float32')\n",
        "    X_p = K.applications.vgg16.preprocess_input(X)\n",
        "    Y_p = K.utils.to_categorical(Y, 2)  # Assuming binary classification, adjust accordingly\n",
        "    return (X_p, Y_p)\n",
        "\n",
        "if __name__ == \"__main__\":\n",
        "    # Load your custom dataset\n",
        "    dataset = np.array(dataset)\n",
        "    label = np.array(label)\n",
        "\n",
        "    # Divisão dos dados em treinamento, validação e teste\n",
        "\n",
        "    X_train, X_temp, Y_train, Y_temp = train_test_split(dataset, label, test_size=0.4, random_state=42)\n",
        "    X_val, X_test, Y_val, Y_test = train_test_split(X_temp, Y_temp, test_size=0.5, random_state=42)\n",
        "\n",
        "    # Split the dataset into training and validation sets\n",
        "    #Xt, X, Yt, Y = train_test_split(dataset, label, test_size=0.2, random_state=42)\n",
        "\n",
        "    X_train_p, Y_train_p = preprocess_data(X_train, Y_train)\n",
        "    X_val_p, Y_val_p = preprocess_data(X_val, Y_val)\n",
        "    X_test_p, Y_test_p = preprocess_data(X_test, Y_test)\n",
        "\n",
        "    # Now you can use Xt, Yt for training and X, Y for validation\n",
        "    base_model = K.applications.vgg16.VGG16(include_top=False,\n",
        "                                            weights='imagenet',\n",
        "                                            pooling='avg',\n",
        "                                            input_shape=(128, 128,3))\n"
      ]
    },
    {
      "cell_type": "code",
      "execution_count": null,
      "metadata": {
        "colab": {
          "background_save": true,
          "base_uri": "https://localhost:8080/"
        },
        "id": "YGhk8szjIO2n",
        "outputId": "c6ef1084-a4e2-4224-9d7a-4e21fe43f5c4"
      },
      "outputs": [
        {
          "name": "stdout",
          "output_type": "stream",
          "text": [
            "\n",
            "Epoch 1: LearningRateScheduler setting learning rate to 3.2258064516129034e-05.\n",
            "Epoch 1/20\n",
            "281/281 [==============================] - ETA: 0s - loss: 0.0262 - accuracy: 0.9933"
          ]
        },
        {
          "name": "stderr",
          "output_type": "stream",
          "text": [
            "/usr/local/lib/python3.10/dist-packages/keras/src/engine/training.py:3103: UserWarning: You are saving your model as an HDF5 file via `model.save()`. This file format is considered legacy. We recommend using instead the native Keras format, e.g. `model.save('my_model.keras')`.\n",
            "  saving_api.save_model(\n"
          ]
        },
        {
          "name": "stdout",
          "output_type": "stream",
          "text": [
            "281/281 [==============================] - 49s 159ms/step - loss: 0.0262 - accuracy: 0.9933 - val_loss: 0.0941 - val_accuracy: 0.9669 - lr: 3.2258e-05\n",
            "\n",
            "Epoch 2: LearningRateScheduler setting learning rate to 3.2258064516129034e-05.\n",
            "Epoch 2/20\n",
            "281/281 [==============================] - 44s 155ms/step - loss: 0.0098 - accuracy: 0.9971 - val_loss: 0.0951 - val_accuracy: 0.9873 - lr: 3.2258e-05\n",
            "\n",
            "Epoch 3: LearningRateScheduler setting learning rate to 3.2258064516129034e-05.\n",
            "Epoch 3/20\n",
            "281/281 [==============================] - 43s 154ms/step - loss: 0.0019 - accuracy: 0.9996 - val_loss: 0.1517 - val_accuracy: 0.9840 - lr: 3.2258e-05\n",
            "\n",
            "Epoch 4: LearningRateScheduler setting learning rate to 3.2258064516129034e-05.\n",
            "Epoch 4/20\n",
            "281/281 [==============================] - 43s 153ms/step - loss: 0.0045 - accuracy: 0.9991 - val_loss: 0.1031 - val_accuracy: 0.9833 - lr: 3.2258e-05\n",
            "\n",
            "Epoch 5: LearningRateScheduler setting learning rate to 3.2258064516129034e-05.\n",
            "Epoch 5/20\n",
            "281/281 [==============================] - 44s 156ms/step - loss: 0.0134 - accuracy: 0.9957 - val_loss: 0.0788 - val_accuracy: 0.9866 - lr: 3.2258e-05\n",
            "\n",
            "Epoch 6: LearningRateScheduler setting learning rate to 3.2258064516129034e-05.\n",
            "Epoch 6/20\n",
            "281/281 [==============================] - 43s 154ms/step - loss: 0.0032 - accuracy: 0.9991 - val_loss: 0.0969 - val_accuracy: 0.9863 - lr: 3.2258e-05\n",
            "\n",
            "Epoch 7: LearningRateScheduler setting learning rate to 3.2258064516129034e-05.\n",
            "Epoch 7/20\n",
            "281/281 [==============================] - 43s 155ms/step - loss: 0.0104 - accuracy: 0.9970 - val_loss: 0.0850 - val_accuracy: 0.9856 - lr: 3.2258e-05\n",
            "\n",
            "Epoch 8: LearningRateScheduler setting learning rate to 3.2258064516129034e-05.\n",
            "Epoch 8/20\n",
            "281/281 [==============================] - 43s 154ms/step - loss: 8.9692e-04 - accuracy: 0.9997 - val_loss: 0.1396 - val_accuracy: 0.9873 - lr: 3.2258e-05\n",
            "\n",
            "Epoch 9: LearningRateScheduler setting learning rate to 3.2258064516129034e-05.\n",
            "Epoch 9/20\n",
            "281/281 [==============================] - 43s 152ms/step - loss: 1.1135e-04 - accuracy: 1.0000 - val_loss: 0.1462 - val_accuracy: 0.9883 - lr: 3.2258e-05\n",
            "\n",
            "Epoch 10: LearningRateScheduler setting learning rate to 3.2258064516129034e-05.\n",
            "Epoch 10/20\n",
            "281/281 [==============================] - 43s 152ms/step - loss: 2.6331e-05 - accuracy: 1.0000 - val_loss: 0.1589 - val_accuracy: 0.9880 - lr: 3.2258e-05\n",
            "\n",
            "Epoch 11: LearningRateScheduler setting learning rate to 3.2258064516129034e-05.\n",
            "Epoch 11/20\n",
            "281/281 [==============================] - 43s 152ms/step - loss: 1.3121e-05 - accuracy: 1.0000 - val_loss: 0.1660 - val_accuracy: 0.9880 - lr: 3.2258e-05\n",
            "\n",
            "Epoch 12: LearningRateScheduler setting learning rate to 3.2258064516129034e-05.\n",
            "Epoch 12/20\n",
            "281/281 [==============================] - 43s 152ms/step - loss: 6.0097e-06 - accuracy: 1.0000 - val_loss: 0.1734 - val_accuracy: 0.9880 - lr: 3.2258e-05\n",
            "\n",
            "Epoch 13: LearningRateScheduler setting learning rate to 3.2258064516129034e-05.\n",
            "Epoch 13/20\n",
            "281/281 [==============================] - 43s 151ms/step - loss: 2.8381e-06 - accuracy: 1.0000 - val_loss: 0.1781 - val_accuracy: 0.9880 - lr: 3.2258e-05\n",
            "\n",
            "Epoch 14: LearningRateScheduler setting learning rate to 3.2258064516129034e-05.\n",
            "Epoch 14/20\n",
            "281/281 [==============================] - 43s 151ms/step - loss: 2.3883e-06 - accuracy: 1.0000 - val_loss: 0.1828 - val_accuracy: 0.9880 - lr: 3.2258e-05\n",
            "\n",
            "Epoch 15: LearningRateScheduler setting learning rate to 3.2258064516129034e-05.\n",
            "Epoch 15/20\n",
            "281/281 [==============================] - 43s 151ms/step - loss: 2.4318e-06 - accuracy: 1.0000 - val_loss: 0.1894 - val_accuracy: 0.9880 - lr: 3.2258e-05\n",
            "\n",
            "Epoch 16: LearningRateScheduler setting learning rate to 3.2258064516129034e-05.\n",
            "Epoch 16/20\n",
            "281/281 [==============================] - 43s 152ms/step - loss: 1.4038e-06 - accuracy: 1.0000 - val_loss: 0.1947 - val_accuracy: 0.9876 - lr: 3.2258e-05\n",
            "\n",
            "Epoch 17: LearningRateScheduler setting learning rate to 3.2258064516129034e-05.\n",
            "Epoch 17/20\n",
            "281/281 [==============================] - 42s 151ms/step - loss: 9.8387e-07 - accuracy: 1.0000 - val_loss: 0.1994 - val_accuracy: 0.9876 - lr: 3.2258e-05\n",
            "\n",
            "Epoch 18: LearningRateScheduler setting learning rate to 3.2258064516129034e-05.\n",
            "Epoch 18/20\n",
            "281/281 [==============================] - 43s 151ms/step - loss: 1.1040e-06 - accuracy: 1.0000 - val_loss: 0.2025 - val_accuracy: 0.9876 - lr: 3.2258e-05\n",
            "\n",
            "Epoch 19: LearningRateScheduler setting learning rate to 3.2258064516129034e-05.\n",
            "Epoch 19/20\n",
            "281/281 [==============================] - 42s 151ms/step - loss: 8.9063e-07 - accuracy: 1.0000 - val_loss: 0.2073 - val_accuracy: 0.9876 - lr: 3.2258e-05\n",
            "\n",
            "Epoch 20: LearningRateScheduler setting learning rate to 3.2258064516129034e-05.\n",
            "Epoch 20/20\n",
            "281/281 [==============================] - 43s 151ms/step - loss: 1.8821e-07 - accuracy: 1.0000 - val_loss: 0.2094 - val_accuracy: 0.9876 - lr: 3.2258e-05\n"
          ]
        }
      ],
      "source": [
        "model= K.Sequential()\n",
        "model.add(K.layers.UpSampling2D())\n",
        "model.add(base_model)\n",
        "model.add(K.layers.Flatten())\n",
        "model.add(K.layers.Dense(512, activation=('relu')))\n",
        "model.add(K.layers.Dropout(0.2))\n",
        "model.add(K.layers.Dense(256, activation=('relu')))\n",
        "model.add(K.layers.Dropout(0.2))\n",
        "model.add(K.layers.Dense(2, activation=('sigmoid')))\n",
        "callback = []\n",
        "def decay(epoch):\n",
        "    \"\"\" This method create the alpha\"\"\"\n",
        "    return 0.001 / (1 + 1 * 20)\n",
        "callback += [K.callbacks.LearningRateScheduler(decay, verbose=1)]\n",
        "callback += [K.callbacks.ModelCheckpoint('malaria_K2.h5',\n",
        "                                          save_best_only=True,\n",
        "                                          mode='min'\n",
        "                                          )]\n",
        "model.compile(optimizer='adam', loss='binary_crossentropy',\n",
        "              metrics=['accuracy'])\n",
        "\n",
        "history = model.fit(x=X_train_p, y=Y_train_p,\n",
        "          batch_size=32,\n",
        "          validation_data=(X_val_p, Y_val_p),\n",
        "          epochs=20, shuffle=True,\n",
        "          callbacks=callback,\n",
        "          verbose=1\n",
        "          )"
      ]
    },
    {
      "cell_type": "code",
      "execution_count": null,
      "metadata": {
        "id": "JAWyeLrBX4Gy",
        "colab": {
          "base_uri": "https://localhost:8080/",
          "height": 472
        },
        "outputId": "44d477ed-439e-43cc-80d4-5fa3b3d2767a"
      },
      "outputs": [
        {
          "output_type": "display_data",
          "data": {
            "text/plain": [
              "<Figure size 640x480 with 1 Axes>"
            ],
            "image/png": "[encoded data removed]"
          },
          "metadata": {}
        }
      ],
      "source": [
        "#plotar gráficos\n",
        "import matplotlib.pyplot as plt\n",
        "\n",
        "loss = history.history['accuracy']\n",
        "val_loss = history.history['val_accuracy']\n",
        "\n",
        "epochs = range(1, len(loss)+ 1)\n",
        "\n",
        "plt.plot(epochs, loss, 'y', label = \"Treinamento\")\n",
        "plt.plot(epochs, val_loss, 'r', label = \"Validação\")\n",
        "\n",
        "plt.title(\"Treinamento versus validação\")\n",
        "plt.xlabel(\"Epocas\")\n",
        "plt.ylabel(\"Acurácia Global\")\n",
        "plt.legend()\n",
        "plt.show()"
      ]
    },
    {
      "cell_type": "code",
      "execution_count": null,
      "metadata": {
        "id": "UYapfZC7tknV"
      },
      "outputs": [],
      "source": [
        "model.save('malaria_K2.h5')"
      ]
    },
    {
      "cell_type": "code",
      "execution_count": null,
      "metadata": {
        "id": "2BIdmQfFkRm6"
      },
      "outputs": [],
      "source": [
        "from keras.models import load_model\n",
        "\n",
        "model = load_model('malaria_K2.h5')"
      ]
    },
    {
      "cell_type": "code",
      "execution_count": null,
      "metadata": {
        "id": "HwtNXJsLyjbf",
        "colab": {
          "base_uri": "https://localhost:8080/"
        },
        "outputId": "2753fba1-e650-42bf-eb9b-83d1c3a4146c"
      },
      "outputs": [
        {
          "output_type": "stream",
          "name": "stdout",
          "text": [
            "94/94 [==============================] - 4s 40ms/step - loss: 0.2463 - accuracy: 0.9870\n",
            "Test loss: 0.24626491963863373\n",
            "Test accuracy: 0.9869695901870728\n"
          ]
        }
      ],
      "source": [
        "score = model.evaluate(X_test_p, Y_test_p)\n",
        "print('Test loss:', score[0])\n",
        "print('Test accuracy:', score[1])"
      ]
    }
  ],
  "metadata": {
    "accelerator": "GPU",
    "colab": {
      "machine_shape": "hm",
      "provenance": []
    },
    "kernelspec": {
      "display_name": "Python 3",
      "name": "python3"
    },
    "language_info": {
      "name": "python"
    }
  },
  "nbformat": 4,
  "nbformat_minor": 0
}