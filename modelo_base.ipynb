{
  "nbformat": 4,
  "nbformat_minor": 0,
  "metadata": {
    "colab": {
      "provenance": []
    },
    "kernelspec": {
      "name": "python3",
      "display_name": "Python 3"
    },
    "language_info": {
      "name": "python"
    },
    "accelerator": "GPU"
  },
  "cells": [
    {
      "cell_type": "code",
      "execution_count": null,
      "metadata": {
        "id": "171BECu4aq9q"
      },
      "outputs": [],
      "source": [
        "import numpy as np\n",
        "import cv2\n",
        "import os\n",
        "from PIL import Image\n",
        "import tensorflow as tf"
      ]
    },
    {
      "cell_type": "code",
      "source": [
        "pasta = '/content/drive/MyDrive/ELT579/Problema4/imagens_celulas_1000/'\n",
        "\n",
        "\n",
        "positivas = os.listdir(pasta + 'positivos/')\n",
        "\n",
        "negativas = os.listdir(pasta + 'negativos/')\n"
      ],
      "metadata": {
        "id": "mWma_bQUbJUE"
      },
      "execution_count": null,
      "outputs": []
    },
    {
      "cell_type": "code",
      "source": [
        "dataset = list()\n",
        "\n",
        "label = list()\n",
        "\n",
        "SIZE = 64\n",
        "\n",
        "for i, image_name in enumerate(positivas):\n",
        "  if (image_name.split('.')[1] == 'png'):\n",
        "    image = cv2.imread(pasta + 'positivos/' + image_name)\n",
        "    image = Image.fromarray(image, 'RGB')\n",
        "    image = image.resize((SIZE,SIZE))\n",
        "    dataset.append(np.array(image))\n",
        "    label.append(1)\n",
        "\n",
        "for i, image_name in enumerate(negativas):\n",
        "  if (image_name.split('.')[1] == 'png'):\n",
        "    image = cv2.imread(pasta + 'negativos/' + image_name)\n",
        "    image = Image.fromarray(image, 'RGB')\n",
        "    image = image.resize((SIZE,SIZE))\n",
        "    dataset.append(np.array(image))\n",
        "    label.append(0)\n"
      ],
      "metadata": {
        "id": "R1dfOqgBb8qY"
      },
      "execution_count": null,
      "outputs": []
    },
    {
      "cell_type": "code",
      "source": [
        "import matplotlib.pyplot as plt\n",
        "\n",
        "print('label = ', label[-2])\n",
        "\n",
        "print('imagem')\n",
        "plt.imshow(dataset[-2])"
      ],
      "metadata": {
        "colab": {
          "base_uri": "https://localhost:8080/",
          "height": 320
        },
        "id": "mzcFuV_eg5MG",
        "outputId": "48f6f8d2-d3dd-4220-8c0c-de9790a80d30"
      },
      "execution_count": null,
      "outputs": [
        {
          "output_type": "stream",
          "name": "stdout",
          "text": [
            "label =  0\n",
            "imagem\n"
          ]
        },
        {
          "output_type": "execute_result",
          "data": {
            "text/plain": [
              "<matplotlib.image.AxesImage at 0x7f1d74ebf4d0>"
            ]
          },
          "metadata": {},
          "execution_count": 7
        },
        {
          "output_type": "display_data",
          "data": {
            "text/plain": [
              "<Figure size 432x288 with 1 Axes>"
            ],
            "image/png": "[encoded data removed]"
          },
          "metadata": {
            "needs_background": "light"
          }
        }
      ]
    },
    {
      "cell_type": "code",
      "source": [
        "X = np.array(dataset)\n",
        "\n",
        "X = X/255.0\n",
        "\n",
        "y = tf.keras.utils.to_categorical(np.array(label))\n",
        "\n",
        "from sklearn.model_selection import train_test_split\n",
        "\n",
        "X_train, X_test, y_train, y_test = train_test_split(X, y, test_size = 0.20, random_state = 0)\n",
        "\n"
      ],
      "metadata": {
        "id": "T5mxBv-xiHNp"
      },
      "execution_count": null,
      "outputs": []
    },
    {
      "cell_type": "code",
      "source": [
        "print(np.shape(X_train))\n",
        "\n",
        "print(np.shape(y_train))"
      ],
      "metadata": {
        "colab": {
          "base_uri": "https://localhost:8080/"
        },
        "id": "0hrNqK00jta5",
        "outputId": "cea85caf-fbca-49f6-f7c5-7d5534c77c4a"
      },
      "execution_count": null,
      "outputs": [
        {
          "output_type": "stream",
          "name": "stdout",
          "text": [
            "(1600, 64, 64, 3)\n",
            "(1600, 2)\n"
          ]
        }
      ]
    },
    {
      "cell_type": "code",
      "source": [
        "TAM = (SIZE, SIZE, 3)\n",
        "\n",
        "inp = tf.keras.Input(shape = TAM)\n",
        "\n",
        "conv1 = tf.keras.layers.Conv2D(32, kernel_size = (3,3), activation = 'relu', padding = 'same')(inp)\n",
        "pool1 = tf.keras.layers.MaxPooling2D(pool_size = (2,2))(conv1)\n",
        "drop1 = tf.keras.layers.Dropout(rate = 0.2)(pool1)\n",
        "\n",
        "conv2 = tf.keras.layers.Conv2D(32, kernel_size = (3,3), activation = 'relu', padding = 'same')(drop1)\n",
        "pool2 = tf.keras.layers.MaxPooling2D(pool_size = (2,2))(conv2)\n",
        "drop2 = tf.keras.layers.Dropout(rate = 0.2)(pool2)\n",
        "\n",
        "conv3 = tf.keras.layers.Conv2D(32, kernel_size = (3,3), activation = 'relu', padding = 'same')(drop2)\n",
        "pool3 = tf.keras.layers.MaxPooling2D(pool_size = (2,2))(conv3)\n",
        "drop3 = tf.keras.layers.Dropout(rate = 0.2)(pool3)\n",
        "\n",
        "flat = tf.keras.layers.Flatten()(drop3)\n",
        "\n",
        "dense1 = tf.keras.layers.Dense(512, activation = 'relu')(flat)\n",
        "drop4  = tf.keras.layers.Dropout(rate = 0.2)(dense1)\n",
        "\n",
        "dense2 = tf.keras.layers.Dense(256, activation = 'relu')(drop4)\n",
        "drop5  = tf.keras.layers.Dropout(rate = 0.2)(dense2)\n",
        "\n",
        "out = tf.keras.layers.Dense(2, activation= 'sigmoid')(drop5)\n",
        "\n",
        "model = tf.keras.Model(inputs = inp, outputs = out)\n",
        "\n",
        "model.compile(optimizer = 'adam', loss = 'binary_crossentropy', metrics = ['accuracy'])\n",
        "\n",
        "\n",
        "model.summary()\n",
        "\n"
      ],
      "metadata": {
        "colab": {
          "base_uri": "https://localhost:8080/"
        },
        "id": "TpFcEh4ZlNb7",
        "outputId": "ffd2cbc4-d01e-4649-da65-068f1c7638f5"
      },
      "execution_count": null,
      "outputs": [
        {
          "output_type": "stream",
          "name": "stdout",
          "text": [
            "Model: \"model_4\"\n",
            "_________________________________________________________________\n",
            " Layer (type)                Output Shape              Param #   \n",
            "=================================================================\n",
            " input_5 (InputLayer)        [(None, 64, 64, 3)]       0         \n",
            "                                                                 \n",
            " conv2d_9 (Conv2D)           (None, 64, 64, 32)        896       \n",
            "                                                                 \n",
            " max_pooling2d_9 (MaxPooling  (None, 32, 32, 32)       0         \n",
            " 2D)                                                             \n",
            "                                                                 \n",
            " dropout_17 (Dropout)        (None, 32, 32, 32)        0         \n",
            "                                                                 \n",
            " conv2d_10 (Conv2D)          (None, 32, 32, 32)        9248      \n",
            "                                                                 \n",
            " max_pooling2d_10 (MaxPoolin  (None, 16, 16, 32)       0         \n",
            " g2D)                                                            \n",
            "                                                                 \n",
            " dropout_18 (Dropout)        (None, 16, 16, 32)        0         \n",
            "                                                                 \n",
            " conv2d_11 (Conv2D)          (None, 16, 16, 32)        9248      \n",
            "                                                                 \n",
            " max_pooling2d_11 (MaxPoolin  (None, 8, 8, 32)         0         \n",
            " g2D)                                                            \n",
            "                                                                 \n",
            " dropout_19 (Dropout)        (None, 8, 8, 32)          0         \n",
            "                                                                 \n",
            " flatten_4 (Flatten)         (None, 2048)              0         \n",
            "                                                                 \n",
            " dense_12 (Dense)            (None, 512)               1049088   \n",
            "                                                                 \n",
            " dropout_20 (Dropout)        (None, 512)               0         \n",
            "                                                                 \n",
            " dense_13 (Dense)            (None, 256)               131328    \n",
            "                                                                 \n",
            " dropout_21 (Dropout)        (None, 256)               0         \n",
            "                                                                 \n",
            " dense_14 (Dense)            (None, 2)                 514       \n",
            "                                                                 \n",
            "=================================================================\n",
            "Total params: 1,200,322\n",
            "Trainable params: 1,200,322\n",
            "Non-trainable params: 0\n",
            "_________________________________________________________________\n"
          ]
        }
      ]
    },
    {
      "cell_type": "code",
      "source": [
        "history = model.fit(X_train, y_train, batch_size = 64, verbose = 1, epochs = 40, validation_split = 0.1 )"
      ],
      "metadata": {
        "colab": {
          "base_uri": "https://localhost:8080/"
        },
        "id": "2kM3K7N0oBCF",
        "outputId": "4f7aa236-0120-4cc6-bdb2-3cae4b5c5bbc"
      },
      "execution_count": null,
      "outputs": [
        {
          "output_type": "stream",
          "name": "stdout",
          "text": [
            "Epoch 1/40\n",
            "23/23 [==============================] - 2s 35ms/step - loss: 0.6986 - accuracy: 0.5333 - val_loss: 0.6785 - val_accuracy: 0.7188\n",
            "Epoch 2/40\n",
            "23/23 [==============================] - 0s 21ms/step - loss: 0.6603 - accuracy: 0.6104 - val_loss: 0.6725 - val_accuracy: 0.5750\n",
            "Epoch 3/40\n",
            "23/23 [==============================] - 1s 23ms/step - loss: 0.6078 - accuracy: 0.6569 - val_loss: 0.6540 - val_accuracy: 0.5938\n",
            "Epoch 4/40\n",
            "23/23 [==============================] - 1s 23ms/step - loss: 0.5880 - accuracy: 0.6736 - val_loss: 0.5686 - val_accuracy: 0.7500\n",
            "Epoch 5/40\n",
            "23/23 [==============================] - 0s 20ms/step - loss: 0.5585 - accuracy: 0.6944 - val_loss: 0.5206 - val_accuracy: 0.7625\n",
            "Epoch 6/40\n",
            "23/23 [==============================] - 0s 21ms/step - loss: 0.5887 - accuracy: 0.6674 - val_loss: 0.5618 - val_accuracy: 0.7750\n",
            "Epoch 7/40\n",
            "23/23 [==============================] - 1s 23ms/step - loss: 0.5538 - accuracy: 0.7049 - val_loss: 0.5492 - val_accuracy: 0.7437\n",
            "Epoch 8/40\n",
            "23/23 [==============================] - 0s 21ms/step - loss: 0.5379 - accuracy: 0.7111 - val_loss: 0.5265 - val_accuracy: 0.7500\n",
            "Epoch 9/40\n",
            "23/23 [==============================] - 0s 21ms/step - loss: 0.5407 - accuracy: 0.7257 - val_loss: 0.5806 - val_accuracy: 0.6687\n",
            "Epoch 10/40\n",
            "23/23 [==============================] - 0s 21ms/step - loss: 0.5419 - accuracy: 0.7035 - val_loss: 0.5911 - val_accuracy: 0.6562\n",
            "Epoch 11/40\n",
            "23/23 [==============================] - 1s 23ms/step - loss: 0.5462 - accuracy: 0.7111 - val_loss: 0.5395 - val_accuracy: 0.7750\n",
            "Epoch 12/40\n",
            "23/23 [==============================] - 0s 21ms/step - loss: 0.5164 - accuracy: 0.7347 - val_loss: 0.5069 - val_accuracy: 0.7875\n",
            "Epoch 13/40\n",
            "23/23 [==============================] - 0s 21ms/step - loss: 0.5185 - accuracy: 0.7354 - val_loss: 0.5247 - val_accuracy: 0.6750\n",
            "Epoch 14/40\n",
            "23/23 [==============================] - 0s 21ms/step - loss: 0.4857 - accuracy: 0.7660 - val_loss: 0.4931 - val_accuracy: 0.7563\n",
            "Epoch 15/40\n",
            "23/23 [==============================] - 0s 21ms/step - loss: 0.4821 - accuracy: 0.7625 - val_loss: 0.5922 - val_accuracy: 0.6375\n",
            "Epoch 16/40\n",
            "23/23 [==============================] - 0s 21ms/step - loss: 0.4569 - accuracy: 0.7750 - val_loss: 0.4389 - val_accuracy: 0.8500\n",
            "Epoch 17/40\n",
            "23/23 [==============================] - 0s 20ms/step - loss: 0.4139 - accuracy: 0.8139 - val_loss: 0.4011 - val_accuracy: 0.8125\n",
            "Epoch 18/40\n",
            "23/23 [==============================] - 0s 20ms/step - loss: 0.3408 - accuracy: 0.8507 - val_loss: 0.2866 - val_accuracy: 0.9062\n",
            "Epoch 19/40\n",
            "23/23 [==============================] - 1s 23ms/step - loss: 0.2974 - accuracy: 0.8722 - val_loss: 0.2166 - val_accuracy: 0.9062\n",
            "Epoch 20/40\n",
            "23/23 [==============================] - 1s 23ms/step - loss: 0.2306 - accuracy: 0.9187 - val_loss: 0.1477 - val_accuracy: 0.9438\n",
            "Epoch 21/40\n",
            "23/23 [==============================] - 0s 22ms/step - loss: 0.1937 - accuracy: 0.9264 - val_loss: 0.2023 - val_accuracy: 0.9125\n",
            "Epoch 22/40\n",
            "23/23 [==============================] - 0s 20ms/step - loss: 0.1736 - accuracy: 0.9389 - val_loss: 0.0965 - val_accuracy: 0.9750\n",
            "Epoch 23/40\n",
            "23/23 [==============================] - 0s 21ms/step - loss: 0.1372 - accuracy: 0.9486 - val_loss: 0.0618 - val_accuracy: 0.9875\n",
            "Epoch 24/40\n",
            "23/23 [==============================] - 0s 21ms/step - loss: 0.1275 - accuracy: 0.9535 - val_loss: 0.0891 - val_accuracy: 0.9563\n",
            "Epoch 25/40\n",
            "23/23 [==============================] - 0s 21ms/step - loss: 0.1149 - accuracy: 0.9646 - val_loss: 0.0824 - val_accuracy: 0.9812\n",
            "Epoch 26/40\n",
            "23/23 [==============================] - 0s 21ms/step - loss: 0.0996 - accuracy: 0.9653 - val_loss: 0.0793 - val_accuracy: 0.9750\n",
            "Epoch 27/40\n",
            "23/23 [==============================] - 0s 21ms/step - loss: 0.0992 - accuracy: 0.9632 - val_loss: 0.0528 - val_accuracy: 0.9875\n",
            "Epoch 28/40\n",
            "23/23 [==============================] - 0s 21ms/step - loss: 0.0847 - accuracy: 0.9694 - val_loss: 0.0473 - val_accuracy: 0.9875\n",
            "Epoch 29/40\n",
            "23/23 [==============================] - 0s 21ms/step - loss: 0.0779 - accuracy: 0.9757 - val_loss: 0.0886 - val_accuracy: 0.9500\n",
            "Epoch 30/40\n",
            "23/23 [==============================] - 1s 23ms/step - loss: 0.0900 - accuracy: 0.9694 - val_loss: 0.0533 - val_accuracy: 0.9812\n",
            "Epoch 31/40\n",
            "23/23 [==============================] - 0s 21ms/step - loss: 0.0568 - accuracy: 0.9778 - val_loss: 0.0622 - val_accuracy: 0.9750\n",
            "Epoch 32/40\n",
            "23/23 [==============================] - 0s 21ms/step - loss: 0.0826 - accuracy: 0.9715 - val_loss: 0.0909 - val_accuracy: 0.9563\n",
            "Epoch 33/40\n",
            "23/23 [==============================] - 1s 23ms/step - loss: 0.1061 - accuracy: 0.9681 - val_loss: 0.0658 - val_accuracy: 0.9750\n",
            "Epoch 34/40\n",
            "23/23 [==============================] - 1s 23ms/step - loss: 0.0646 - accuracy: 0.9771 - val_loss: 0.0312 - val_accuracy: 0.9875\n",
            "Epoch 35/40\n",
            "23/23 [==============================] - 0s 21ms/step - loss: 0.0529 - accuracy: 0.9833 - val_loss: 0.0993 - val_accuracy: 0.9625\n",
            "Epoch 36/40\n",
            "23/23 [==============================] - 0s 21ms/step - loss: 0.0469 - accuracy: 0.9854 - val_loss: 0.0493 - val_accuracy: 0.9563\n",
            "Epoch 37/40\n",
            "23/23 [==============================] - 1s 23ms/step - loss: 0.0576 - accuracy: 0.9785 - val_loss: 0.0329 - val_accuracy: 0.9875\n",
            "Epoch 38/40\n",
            "23/23 [==============================] - 1s 22ms/step - loss: 0.0437 - accuracy: 0.9861 - val_loss: 0.0294 - val_accuracy: 0.9812\n",
            "Epoch 39/40\n",
            "23/23 [==============================] - 0s 21ms/step - loss: 0.0546 - accuracy: 0.9840 - val_loss: 0.0565 - val_accuracy: 0.9750\n",
            "Epoch 40/40\n",
            "23/23 [==============================] - 1s 22ms/step - loss: 0.0875 - accuracy: 0.9674 - val_loss: 0.0715 - val_accuracy: 0.9812\n"
          ]
        }
      ]
    },
    {
      "cell_type": "code",
      "source": [
        "#plotar gráficos\n",
        "import matplotlib.pyplot as plt\n",
        "\n",
        "loss = history.history['accuracy']\n",
        "val_loss = history.history['val_accuracy']\n",
        "\n",
        "epochs = range(1, len(loss)+ 1)\n",
        "\n",
        "plt.plot(epochs, loss, 'y', label = \"Treinamento\")\n",
        "plt.plot(epochs, val_loss, 'r', label = \"Validação\")\n",
        "\n",
        "plt.title(\"Treinamento versus validação\")\n",
        "plt.xlabel(\"Epocas\")\n",
        "plt.ylabel(\"Acurácia Global\")\n",
        "plt.legend()\n",
        "plt.show()"
      ],
      "metadata": {
        "colab": {
          "base_uri": "https://localhost:8080/",
          "height": 295
        },
        "id": "Mp9WhamLop9a",
        "outputId": "67db7355-5c9c-429e-bafe-eb8dd0614331"
      },
      "execution_count": null,
      "outputs": [
        {
          "output_type": "display_data",
          "data": {
            "text/plain": [
              "<Figure size 432x288 with 1 Axes>"
            ],
            "image/png": "[encoded data removed]"
          },
          "metadata": {
            "needs_background": "light"
          }
        }
      ]
    },
    {
      "cell_type": "code",
      "source": [
        "model.save('malaria_model.h5')"
      ],
      "metadata": {
        "id": "k-SIgzvtrqVb"
      },
      "execution_count": null,
      "outputs": []
    },
    {
      "cell_type": "code",
      "source": [
        "from tensorflow.keras.models import load_model\n",
        "\n",
        "model = load_model('malaria_model.h5')"
      ],
      "metadata": {
        "id": "tIOZJqHuruq9"
      },
      "execution_count": null,
      "outputs": []
    },
    {
      "cell_type": "code",
      "source": [
        "_,score = model.evaluate(X_test, y_test)\n",
        "\n",
        "print(score)"
      ],
      "metadata": {
        "colab": {
          "base_uri": "https://localhost:8080/"
        },
        "id": "oiCXDQllr4td",
        "outputId": "9565b34d-9c0b-4204-e2a5-179f2857758a"
      },
      "execution_count": null,
      "outputs": [
        {
          "output_type": "stream",
          "name": "stdout",
          "text": [
            "13/13 [==============================] - 0s 12ms/step - loss: 0.1290 - accuracy: 0.9600\n",
            "0.9599999785423279\n"
          ]
        }
      ]
    }
  ]
}