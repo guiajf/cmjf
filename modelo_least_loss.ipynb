{
  "nbformat": 4,
  "nbformat_minor": 0,
  "metadata": {
    "colab": {
      "provenance": [],
      "gpuType": "T4",
      "machine_shape": "hm"
    },
    "kernelspec": {
      "name": "python3",
      "display_name": "Python 3"
    },
    "language_info": {
      "name": "python"
    },
    "accelerator": "GPU"
  },
  "cells": [
    {
      "cell_type": "code",
      "execution_count": null,
      "metadata": {
        "id": "7xXSKt4mbBIL"
      },
      "outputs": [],
      "source": [
        "import numpy as np\n",
        "import cv2\n",
        "import os\n",
        "import zipfile\n",
        "from PIL import Image\n",
        "import tensorflow as tf"
      ]
    },
    {
      "cell_type": "code",
      "source": [
        "from google.colab import drive\n",
        "drive.mount('/content/drive')"
      ],
      "metadata": {
        "colab": {
          "base_uri": "https://localhost:8080/"
        },
        "id": "pD-8crTwB-Z0",
        "outputId": "c1a6cf3b-7037-4fc5-f4f6-7aebf8bb2235"
      },
      "execution_count": null,
      "outputs": [
        {
          "output_type": "stream",
          "name": "stdout",
          "text": [
            "Mounted at /content/drive\n"
          ]
        }
      ]
    },
    {
      "cell_type": "code",
      "source": [
        "pip install requests"
      ],
      "metadata": {
        "colab": {
          "base_uri": "https://localhost:8080/"
        },
        "id": "KhaCvu2h3nCb",
        "outputId": "69784d83-a3ef-40ea-bb73-e37899ef4b39"
      },
      "execution_count": null,
      "outputs": [
        {
          "output_type": "stream",
          "name": "stdout",
          "text": [
            "Requirement already satisfied: requests in /usr/local/lib/python3.10/dist-packages (2.31.0)\n",
            "Requirement already satisfied: charset-normalizer<4,>=2 in /usr/local/lib/python3.10/dist-packages (from requests) (3.3.2)\n",
            "Requirement already satisfied: idna<4,>=2.5 in /usr/local/lib/python3.10/dist-packages (from requests) (3.4)\n",
            "Requirement already satisfied: urllib3<3,>=1.21.1 in /usr/local/lib/python3.10/dist-packages (from requests) (2.0.7)\n",
            "Requirement already satisfied: certifi>=2017.4.17 in /usr/local/lib/python3.10/dist-packages (from requests) (2023.7.22)\n"
          ]
        }
      ]
    },
    {
      "cell_type": "code",
      "source": [
        "# Definir o endereço para baixar arquivo\n",
        "!wget -P /content/drive/MyDrive/ELT579/Problema4 https://data.lhncbc.nlm.nih.gov/public/Malaria/cell_images.zip\n"
      ],
      "metadata": {
        "id": "9zuSL3Asb2wh",
        "colab": {
          "base_uri": "https://localhost:8080/"
        },
        "outputId": "b5a2cb6c-5b39-4805-b0dc-2e357dad1264"
      },
      "execution_count": null,
      "outputs": [
        {
          "output_type": "stream",
          "name": "stdout",
          "text": [
            "--2023-11-30 19:49:40--  https://data.lhncbc.nlm.nih.gov/public/Malaria/cell_images.zip\n",
            "Resolving data.lhncbc.nlm.nih.gov (data.lhncbc.nlm.nih.gov)... 108.138.94.6, 108.138.94.36, 108.138.94.100, ...\n",
            "Connecting to data.lhncbc.nlm.nih.gov (data.lhncbc.nlm.nih.gov)|108.138.94.6|:443... connected.\n",
            "HTTP request sent, awaiting response... 200 OK\n",
            "Length: 353452851 (337M) [application/zip]\n",
            "Saving to: ‘/content/drive/MyDrive/ELT579/Problema4/cell_images.zip’\n",
            "\n",
            "cell_images.zip     100%[===================>] 337.08M  41.4MB/s    in 7.0s    \n",
            "\n",
            "2023-11-30 19:49:48 (48.1 MB/s) - ‘/content/drive/MyDrive/ELT579/Problema4/cell_images.zip’ saved [353452851/353452851]\n",
            "\n"
          ]
        }
      ]
    },
    {
      "cell_type": "code",
      "source": [
        "# Extrair conteúdo dos arquivos comprimidos\n",
        "local_zip = '/content/drive/MyDrive/ELT579/Problema4/cell_images.zip'\n",
        "zip_ref = zipfile.ZipFile(local_zip, 'r')\n",
        "zip_ref.extractall('/content/drive/MyDrive/ELT579/Problema4')\n",
        "zip_ref.close()"
      ],
      "metadata": {
        "id": "Rxh8sYBx50Ve"
      },
      "execution_count": null,
      "outputs": []
    },
    {
      "cell_type": "code",
      "source": [
        "pasta = '/content/drive/MyDrive/ELT579/Problema4/cell_images/'\n",
        "\n",
        "positivas = os.listdir(pasta + 'Parasitized/')\n",
        "\n",
        "negativas = os.listdir(pasta + 'Uninfected/')"
      ],
      "metadata": {
        "id": "xzVO5Nz79fTs"
      },
      "execution_count": null,
      "outputs": []
    },
    {
      "cell_type": "code",
      "source": [
        "dataset = list()\n",
        "\n",
        "label = list()\n",
        "\n",
        "SIZE = 64\n",
        "\n",
        "for i, image_name in enumerate(positivas):\n",
        "  if(image_name.split('.')[1] == 'png'):\n",
        "    img = cv2.imread(pasta + 'Parasitized/' + image_name)\n",
        "    img = Image.fromarray(img, 'RGB')\n",
        "    img = img.resize((SIZE, SIZE))\n",
        "    dataset.append(np.array(img))\n",
        "    label.append(1)\n",
        "\n",
        "for i, image_name in enumerate(negativas):\n",
        "  if(image_name.split('.')[1] == 'png'):\n",
        "    img = cv2.imread(pasta + 'Uninfected/' + image_name)\n",
        "    img = Image.fromarray(img, 'RGB')\n",
        "    img = img.resize((SIZE, SIZE))\n",
        "    dataset.append(np.array(img))\n",
        "    label.append(0)"
      ],
      "metadata": {
        "id": "m_6LEadddCbM"
      },
      "execution_count": null,
      "outputs": []
    },
    {
      "cell_type": "code",
      "source": [
        "import matplotlib.pyplot as plt\n",
        "\n",
        "print('label = ', label[-2])\n",
        "\n",
        "print('imagem')\n",
        "plt.imshow(dataset[-2])"
      ],
      "metadata": {
        "colab": {
          "base_uri": "https://localhost:8080/",
          "height": 484
        },
        "id": "FloEBnQSxT3K",
        "outputId": "ec45ea8d-b2a0-4de1-a496-c547b1c802af"
      },
      "execution_count": null,
      "outputs": [
        {
          "output_type": "stream",
          "name": "stdout",
          "text": [
            "label =  0\n",
            "imagem\n"
          ]
        },
        {
          "output_type": "execute_result",
          "data": {
            "text/plain": [
              "<matplotlib.image.AxesImage at 0x7df80638a890>"
            ]
          },
          "metadata": {},
          "execution_count": 6
        },
        {
          "output_type": "display_data",
          "data": {
            "text/plain": [
              "<Figure size 640x480 with 1 Axes>"
            ],
            "image/png": "[encoded data removed]"
          },
          "metadata": {}
        }
      ]
    },
    {
      "cell_type": "code",
      "source": [
        "X = np.array(dataset)\n",
        "\n",
        "X = X/255.0\n",
        "\n",
        "y = tf.keras.utils.to_categorical(np.array(label))\n",
        "\n"
      ],
      "metadata": {
        "id": "caSO7Pvd1p85"
      },
      "execution_count": null,
      "outputs": []
    },
    {
      "cell_type": "code",
      "source": [
        "print(np.shape(X))"
      ],
      "metadata": {
        "colab": {
          "base_uri": "https://localhost:8080/"
        },
        "id": "VXwTRUhP2CJc",
        "outputId": "59d9b89c-b55a-4790-b58c-912c5c50894b"
      },
      "execution_count": null,
      "outputs": [
        {
          "output_type": "stream",
          "name": "stdout",
          "text": [
            "(27558, 64, 64, 3)\n"
          ]
        }
      ]
    },
    {
      "cell_type": "code",
      "source": [
        "print(np.shape(y))"
      ],
      "metadata": {
        "colab": {
          "base_uri": "https://localhost:8080/"
        },
        "id": "Tk6H83UJyk9u",
        "outputId": "d4749dba-298a-4e85-c32e-3d0ed618ad00"
      },
      "execution_count": null,
      "outputs": [
        {
          "output_type": "stream",
          "name": "stdout",
          "text": [
            "(27558, 2)\n"
          ]
        }
      ]
    },
    {
      "cell_type": "code",
      "source": [
        "print(y)"
      ],
      "metadata": {
        "colab": {
          "base_uri": "https://localhost:8080/"
        },
        "id": "kFGhAe2417ON",
        "outputId": "8569f436-a0cf-47cd-9c4d-fbf6bea5423c"
      },
      "execution_count": null,
      "outputs": [
        {
          "output_type": "stream",
          "name": "stdout",
          "text": [
            "[[0. 1.]\n",
            " [0. 1.]\n",
            " [0. 1.]\n",
            " ...\n",
            " [1. 0.]\n",
            " [1. 0.]\n",
            " [1. 0.]]\n"
          ]
        }
      ]
    },
    {
      "cell_type": "code",
      "source": [
        "from sklearn.model_selection import train_test_split\n",
        "\n",
        "X_train, X_test, y_train, y_test = train_test_split(X, y, test_size = 0.20, random_state = 0)\n",
        "X_train, X_val, y_train, y_val  = train_test_split(X_train, y_train, test_size=0.20, random_state=0)"
      ],
      "metadata": {
        "id": "4GtqxTJH3m9Z"
      },
      "execution_count": null,
      "outputs": []
    },
    {
      "cell_type": "code",
      "source": [
        "print(np.shape(X_train))\n",
        "\n",
        "print(np.shape(y_train))"
      ],
      "metadata": {
        "colab": {
          "base_uri": "https://localhost:8080/"
        },
        "id": "hqc5VuBHfCfv",
        "outputId": "ebb3cfc1-07ae-438a-e2dc-86a2d684a37b"
      },
      "execution_count": null,
      "outputs": [
        {
          "output_type": "stream",
          "name": "stdout",
          "text": [
            "(17636, 64, 64, 3)\n",
            "(17636, 2)\n"
          ]
        }
      ]
    },
    {
      "cell_type": "code",
      "source": [
        "print(np.shape(X_test))\n",
        "\n",
        "print(np.shape(y_test))"
      ],
      "metadata": {
        "colab": {
          "base_uri": "https://localhost:8080/"
        },
        "id": "mZtJsyIsyIs3",
        "outputId": "81ff0ffc-a6a1-4945-aa68-851206921ff8"
      },
      "execution_count": null,
      "outputs": [
        {
          "output_type": "stream",
          "name": "stdout",
          "text": [
            "(5512, 64, 64, 3)\n",
            "(5512, 2)\n"
          ]
        }
      ]
    },
    {
      "cell_type": "code",
      "source": [
        "print(np.shape(X_val))\n",
        "\n",
        "print(np.shape(y_val))"
      ],
      "metadata": {
        "colab": {
          "base_uri": "https://localhost:8080/"
        },
        "id": "3DGdFu3lyJpA",
        "outputId": "d3e891b3-a265-4d88-d8d6-c0b056725211"
      },
      "execution_count": null,
      "outputs": [
        {
          "output_type": "stream",
          "name": "stdout",
          "text": [
            "(4410, 64, 64, 3)\n",
            "(4410, 2)\n"
          ]
        }
      ]
    },
    {
      "cell_type": "code",
      "source": [
        "import gc\n",
        "\n",
        "gc.collect()"
      ],
      "metadata": {
        "id": "lqskf9_-tdAJ",
        "colab": {
          "base_uri": "https://localhost:8080/"
        },
        "outputId": "96670b60-be0a-4835-b4be-2be28742708f"
      },
      "execution_count": null,
      "outputs": [
        {
          "output_type": "execute_result",
          "data": {
            "text/plain": [
              "0"
            ]
          },
          "metadata": {},
          "execution_count": 10
        }
      ]
    },
    {
      "cell_type": "code",
      "source": [
        "gc.enable()"
      ],
      "metadata": {
        "id": "_oQfRNE3Hl1r"
      },
      "execution_count": null,
      "outputs": []
    },
    {
      "cell_type": "code",
      "source": [
        "def train_model(X_train, y_train, conv_nodes, dense_nodes, dropout_prob, lr, batch_size, epochs):\n",
        "  nn_model = tf.keras.Sequential([\n",
        "      tf.keras.layers.Conv2D(conv_nodes, kernel_size = (3,3), activation = 'relu', padding = 'same',  input_shape=(64,64,3)),\n",
        "      tf.keras.layers.MaxPooling2D(pool_size = (2,2)),\n",
        "      tf.keras.layers.Dropout(dropout_prob),\n",
        "      tf.keras.layers.Conv2D(conv_nodes, kernel_size = (3,3), activation = 'relu', padding = 'same'),\n",
        "      tf.keras.layers.MaxPooling2D(pool_size = (2,2)),\n",
        "      tf.keras.layers.Dropout(dropout_prob),\n",
        "      tf.keras.layers.Conv2D(conv_nodes, kernel_size = (3,3), activation = 'relu', padding = 'same'),\n",
        "      tf.keras.layers.MaxPooling2D(pool_size = (2,2)),\n",
        "      tf.keras.layers.Dropout(dropout_prob),\n",
        "      tf.keras.layers.Flatten(),\n",
        "      tf.keras.layers.Dense(dense_nodes, activation = 'relu'),\n",
        "      tf.keras.layers.Dropout(rate = 0.2),\n",
        "      tf.keras.layers.Dense(dense_nodes, activation = 'relu'),\n",
        "      tf.keras.layers.Dropout(rate = 0.2),\n",
        "      tf.keras.layers.Dense(2, activation= 'sigmoid'),\n",
        "])\n",
        "\n",
        "  nn_model.compile(optimizer=tf.keras.optimizers.Adam(lr), loss='binary_crossentropy',\n",
        "                  metrics=['accuracy'])\n",
        "  history = nn_model.fit(\n",
        "    X_train, y_train, epochs=epochs, batch_size=batch_size, validation_split=0.2, verbose=0\n",
        "  )\n",
        "\n",
        "  return nn_model, history"
      ],
      "metadata": {
        "id": "kYKih4sF8-sI"
      },
      "execution_count": null,
      "outputs": []
    },
    {
      "cell_type": "code",
      "source": [
        "least_val_loss = float('inf')\n",
        "least_loss_model = None\n",
        "epochs=100\n",
        "for conv_nodes in [32, 64, 128]:\n",
        "  for dense_nodes in [256, 512]:\n",
        "    for dropout_prob in [0, 0.2]:\n",
        "     for lr in [0.01, 0.001, 0.005]:\n",
        "        for batch_size in [32, 64, 128]:\n",
        "            print(f\"conv nodes {conv_nodes}, dense nodes {dense_nodes}, fc_nodes dropout {dropout_prob}, lr {lr}, batch size {batch_size}\")\n",
        "            model, history = train_model(X_train, y_train, conv_nodes, dense_nodes, dropout_prob, lr, batch_size, epochs)\n",
        "            #plot_history(history)\n",
        "            val_loss = model.evaluate(X_val, y_val)[0]\n",
        "            if val_loss < least_val_loss:\n",
        "              least_val_loss = val_loss\n",
        "              least_loss_model = model"
      ],
      "metadata": {
        "id": "xdIReNHW-cwM",
        "colab": {
          "base_uri": "https://localhost:8080/"
        },
        "outputId": "a814b904-b038-4124-9480-6ca4ffc61557"
      },
      "execution_count": null,
      "outputs": [
        {
          "output_type": "stream",
          "name": "stdout",
          "text": [
            "conv nodes 32, dense nodes 256, fc_nodes dropout 0, lr 0.01, batch size 32\n",
            "75/75 [==============================] - 0s 4ms/step - loss: 0.2884 - accuracy: 0.9161\n",
            "conv nodes 32, dense nodes 256, fc_nodes dropout 0, lr 0.01, batch size 64\n",
            "75/75 [==============================] - 0s 3ms/step - loss: 0.1077 - accuracy: 0.9708\n",
            "conv nodes 32, dense nodes 256, fc_nodes dropout 0, lr 0.01, batch size 128\n",
            "75/75 [==============================] - 0s 3ms/step - loss: 0.2756 - accuracy: 0.9720\n",
            "conv nodes 32, dense nodes 256, fc_nodes dropout 0, lr 0.005, batch size 32\n",
            "75/75 [==============================] - 0s 3ms/step - loss: 0.2884 - accuracy: 0.9161\n",
            "conv nodes 32, dense nodes 256, fc_nodes dropout 0, lr 0.005, batch size 64\n",
            "75/75 [==============================] - 0s 3ms/step - loss: 0.3083 - accuracy: 0.9775\n",
            "conv nodes 32, dense nodes 256, fc_nodes dropout 0, lr 0.005, batch size 128\n",
            "75/75 [==============================] - 0s 3ms/step - loss: 0.2305 - accuracy: 0.9720\n",
            "conv nodes 32, dense nodes 256, fc_nodes dropout 0, lr 0.001, batch size 32\n",
            "75/75 [==============================] - 0s 3ms/step - loss: 0.1059 - accuracy: 0.9783\n",
            "conv nodes 32, dense nodes 256, fc_nodes dropout 0, lr 0.001, batch size 64\n",
            "75/75 [==============================] - 0s 3ms/step - loss: 0.1459 - accuracy: 0.9787\n",
            "conv nodes 32, dense nodes 256, fc_nodes dropout 0, lr 0.001, batch size 128\n",
            "75/75 [==============================] - 0s 3ms/step - loss: 0.0718 - accuracy: 0.9733\n",
            "conv nodes 32, dense nodes 256, fc_nodes dropout 0.2, lr 0.01, batch size 32\n",
            "75/75 [==============================] - 0s 3ms/step - loss: 0.2884 - accuracy: 0.9161\n",
            "conv nodes 32, dense nodes 256, fc_nodes dropout 0.2, lr 0.01, batch size 64\n",
            "75/75 [==============================] - 0s 3ms/step - loss: 0.2885 - accuracy: 0.9161\n",
            "conv nodes 32, dense nodes 256, fc_nodes dropout 0.2, lr 0.01, batch size 128\n",
            "75/75 [==============================] - 0s 3ms/step - loss: 0.0866 - accuracy: 0.9745\n",
            "conv nodes 32, dense nodes 256, fc_nodes dropout 0.2, lr 0.005, batch size 32\n",
            "75/75 [==============================] - 0s 3ms/step - loss: 0.2886 - accuracy: 0.9161\n",
            "conv nodes 32, dense nodes 256, fc_nodes dropout 0.2, lr 0.005, batch size 64\n",
            "75/75 [==============================] - 0s 3ms/step - loss: 0.0845 - accuracy: 0.9720\n",
            "conv nodes 32, dense nodes 256, fc_nodes dropout 0.2, lr 0.005, batch size 128\n",
            "75/75 [==============================] - 0s 3ms/step - loss: 0.0966 - accuracy: 0.9683\n",
            "conv nodes 32, dense nodes 256, fc_nodes dropout 0.2, lr 0.001, batch size 32\n",
            "75/75 [==============================] - 0s 3ms/step - loss: 0.1101 - accuracy: 0.9754\n",
            "conv nodes 32, dense nodes 256, fc_nodes dropout 0.2, lr 0.001, batch size 64\n",
            "75/75 [==============================] - 0s 3ms/step - loss: 0.1094 - accuracy: 0.9820\n",
            "conv nodes 32, dense nodes 256, fc_nodes dropout 0.2, lr 0.001, batch size 128\n",
            "75/75 [==============================] - 0s 3ms/step - loss: 0.0955 - accuracy: 0.9816\n",
            "conv nodes 32, dense nodes 512, fc_nodes dropout 0, lr 0.01, batch size 32\n",
            "75/75 [==============================] - 0s 3ms/step - loss: 0.2887 - accuracy: 0.9161\n",
            "conv nodes 32, dense nodes 512, fc_nodes dropout 0, lr 0.01, batch size 64\n",
            "75/75 [==============================] - 0s 3ms/step - loss: 0.2886 - accuracy: 0.9161\n",
            "conv nodes 32, dense nodes 512, fc_nodes dropout 0, lr 0.01, batch size 128\n",
            "75/75 [==============================] - 0s 3ms/step - loss: 0.2887 - accuracy: 0.9161\n",
            "conv nodes 32, dense nodes 512, fc_nodes dropout 0, lr 0.005, batch size 32\n",
            "75/75 [==============================] - 0s 3ms/step - loss: 0.2884 - accuracy: 0.9161\n",
            "conv nodes 32, dense nodes 512, fc_nodes dropout 0, lr 0.005, batch size 64\n",
            "75/75 [==============================] - 0s 3ms/step - loss: 0.2926 - accuracy: 0.9783\n",
            "conv nodes 32, dense nodes 512, fc_nodes dropout 0, lr 0.005, batch size 128\n",
            "75/75 [==============================] - 0s 3ms/step - loss: 0.2230 - accuracy: 0.9687\n",
            "conv nodes 32, dense nodes 512, fc_nodes dropout 0, lr 0.001, batch size 32\n",
            "75/75 [==============================] - 0s 3ms/step - loss: 0.2424 - accuracy: 0.9770\n",
            "conv nodes 32, dense nodes 512, fc_nodes dropout 0, lr 0.001, batch size 64\n",
            "75/75 [==============================] - 0s 3ms/step - loss: 0.1743 - accuracy: 0.9820\n",
            "conv nodes 32, dense nodes 512, fc_nodes dropout 0, lr 0.001, batch size 128\n",
            "75/75 [==============================] - 0s 3ms/step - loss: 0.1564 - accuracy: 0.9787\n",
            "conv nodes 32, dense nodes 512, fc_nodes dropout 0.2, lr 0.01, batch size 32\n",
            "75/75 [==============================] - 0s 3ms/step - loss: 0.2885 - accuracy: 0.9161\n",
            "conv nodes 32, dense nodes 512, fc_nodes dropout 0.2, lr 0.01, batch size 64\n",
            "75/75 [==============================] - 0s 3ms/step - loss: 0.2883 - accuracy: 0.9161\n",
            "conv nodes 32, dense nodes 512, fc_nodes dropout 0.2, lr 0.01, batch size 128\n",
            "75/75 [==============================] - 0s 3ms/step - loss: 0.0963 - accuracy: 0.9733\n",
            "conv nodes 32, dense nodes 512, fc_nodes dropout 0.2, lr 0.005, batch size 32\n",
            "75/75 [==============================] - 0s 3ms/step - loss: 0.2885 - accuracy: 0.9161\n",
            "conv nodes 32, dense nodes 512, fc_nodes dropout 0.2, lr 0.005, batch size 64\n",
            "75/75 [==============================] - 0s 3ms/step - loss: 0.2903 - accuracy: 0.9161\n",
            "conv nodes 32, dense nodes 512, fc_nodes dropout 0.2, lr 0.005, batch size 128\n",
            "75/75 [==============================] - 0s 3ms/step - loss: 0.0688 - accuracy: 0.9779\n",
            "conv nodes 32, dense nodes 512, fc_nodes dropout 0.2, lr 0.001, batch size 32\n",
            "75/75 [==============================] - 0s 3ms/step - loss: 0.1415 - accuracy: 0.9795\n",
            "conv nodes 32, dense nodes 512, fc_nodes dropout 0.2, lr 0.001, batch size 64\n",
            "75/75 [==============================] - 0s 3ms/step - loss: 0.1486 - accuracy: 0.9741\n",
            "conv nodes 32, dense nodes 512, fc_nodes dropout 0.2, lr 0.001, batch size 128\n",
            "75/75 [==============================] - 0s 3ms/step - loss: 0.1180 - accuracy: 0.9820\n",
            "conv nodes 64, dense nodes 256, fc_nodes dropout 0, lr 0.01, batch size 32\n",
            "75/75 [==============================] - 0s 5ms/step - loss: 0.2883 - accuracy: 0.9161\n",
            "conv nodes 64, dense nodes 256, fc_nodes dropout 0, lr 0.01, batch size 64\n",
            "75/75 [==============================] - 0s 4ms/step - loss: 0.2883 - accuracy: 0.9161\n",
            "conv nodes 64, dense nodes 256, fc_nodes dropout 0, lr 0.01, batch size 128\n",
            "75/75 [==============================] - 0s 4ms/step - loss: 0.1675 - accuracy: 0.9741\n",
            "conv nodes 64, dense nodes 256, fc_nodes dropout 0, lr 0.005, batch size 32\n",
            "75/75 [==============================] - 0s 4ms/step - loss: 0.2885 - accuracy: 0.9161\n",
            "conv nodes 64, dense nodes 256, fc_nodes dropout 0, lr 0.005, batch size 64\n",
            "75/75 [==============================] - 0s 4ms/step - loss: 0.3328 - accuracy: 0.9758\n",
            "conv nodes 64, dense nodes 256, fc_nodes dropout 0, lr 0.005, batch size 128\n",
            "75/75 [==============================] - 0s 4ms/step - loss: 0.2226 - accuracy: 0.9775\n",
            "conv nodes 64, dense nodes 256, fc_nodes dropout 0, lr 0.001, batch size 32\n",
            "75/75 [==============================] - 0s 4ms/step - loss: 0.1880 - accuracy: 0.9800\n",
            "conv nodes 64, dense nodes 256, fc_nodes dropout 0, lr 0.001, batch size 64\n",
            "75/75 [==============================] - 0s 4ms/step - loss: 0.1718 - accuracy: 0.9708\n",
            "conv nodes 64, dense nodes 256, fc_nodes dropout 0, lr 0.001, batch size 128\n",
            "75/75 [==============================] - 0s 4ms/step - loss: 0.2121 - accuracy: 0.9779\n",
            "conv nodes 64, dense nodes 256, fc_nodes dropout 0.2, lr 0.01, batch size 32\n",
            "75/75 [==============================] - 0s 4ms/step - loss: 0.2885 - accuracy: 0.9161\n",
            "conv nodes 64, dense nodes 256, fc_nodes dropout 0.2, lr 0.01, batch size 64\n",
            "75/75 [==============================] - 0s 4ms/step - loss: 0.2884 - accuracy: 0.9161\n",
            "conv nodes 64, dense nodes 256, fc_nodes dropout 0.2, lr 0.01, batch size 128\n",
            "75/75 [==============================] - 0s 4ms/step - loss: 0.2885 - accuracy: 0.9161\n",
            "conv nodes 64, dense nodes 256, fc_nodes dropout 0.2, lr 0.005, batch size 32\n",
            "75/75 [==============================] - 0s 4ms/step - loss: 0.2886 - accuracy: 0.9161\n",
            "conv nodes 64, dense nodes 256, fc_nodes dropout 0.2, lr 0.005, batch size 64\n",
            "75/75 [==============================] - 0s 4ms/step - loss: 0.0738 - accuracy: 0.9749\n",
            "conv nodes 64, dense nodes 256, fc_nodes dropout 0.2, lr 0.005, batch size 128\n",
            "75/75 [==============================] - 0s 4ms/step - loss: 0.0911 - accuracy: 0.9779\n",
            "conv nodes 64, dense nodes 256, fc_nodes dropout 0.2, lr 0.001, batch size 32\n",
            "75/75 [==============================] - 0s 4ms/step - loss: 0.1207 - accuracy: 0.9762\n",
            "conv nodes 64, dense nodes 256, fc_nodes dropout 0.2, lr 0.001, batch size 64\n",
            "75/75 [==============================] - 0s 4ms/step - loss: 0.1268 - accuracy: 0.9816\n",
            "conv nodes 64, dense nodes 256, fc_nodes dropout 0.2, lr 0.001, batch size 128\n",
            "75/75 [==============================] - 0s 4ms/step - loss: 0.1400 - accuracy: 0.9791\n",
            "conv nodes 64, dense nodes 512, fc_nodes dropout 0, lr 0.01, batch size 32\n",
            "75/75 [==============================] - 0s 4ms/step - loss: 0.2887 - accuracy: 0.9161\n",
            "conv nodes 64, dense nodes 512, fc_nodes dropout 0, lr 0.01, batch size 64\n",
            "75/75 [==============================] - 0s 4ms/step - loss: 0.2885 - accuracy: 0.9161\n",
            "conv nodes 64, dense nodes 512, fc_nodes dropout 0, lr 0.01, batch size 128\n",
            "75/75 [==============================] - 0s 4ms/step - loss: 0.4551 - accuracy: 0.9144\n",
            "conv nodes 64, dense nodes 512, fc_nodes dropout 0, lr 0.005, batch size 32\n",
            "75/75 [==============================] - 0s 4ms/step - loss: 0.2886 - accuracy: 0.9161\n",
            "conv nodes 64, dense nodes 512, fc_nodes dropout 0, lr 0.005, batch size 64\n",
            "75/75 [==============================] - 0s 4ms/step - loss: 0.2885 - accuracy: 0.9161\n",
            "conv nodes 64, dense nodes 512, fc_nodes dropout 0, lr 0.005, batch size 128\n",
            "75/75 [==============================] - 0s 4ms/step - loss: 0.3033 - accuracy: 0.9729\n",
            "conv nodes 64, dense nodes 512, fc_nodes dropout 0, lr 0.001, batch size 32\n",
            "75/75 [==============================] - 0s 4ms/step - loss: 0.2381 - accuracy: 0.9775\n",
            "conv nodes 64, dense nodes 512, fc_nodes dropout 0, lr 0.001, batch size 64\n",
            "75/75 [==============================] - 0s 4ms/step - loss: 0.2015 - accuracy: 0.9770\n",
            "conv nodes 64, dense nodes 512, fc_nodes dropout 0, lr 0.001, batch size 128\n",
            "75/75 [==============================] - 0s 4ms/step - loss: 0.1972 - accuracy: 0.9779\n",
            "conv nodes 64, dense nodes 512, fc_nodes dropout 0.2, lr 0.01, batch size 32\n",
            "75/75 [==============================] - 0s 4ms/step - loss: 0.2886 - accuracy: 0.9161\n",
            "conv nodes 64, dense nodes 512, fc_nodes dropout 0.2, lr 0.01, batch size 64\n",
            "75/75 [==============================] - 0s 4ms/step - loss: 0.2884 - accuracy: 0.9161\n",
            "conv nodes 64, dense nodes 512, fc_nodes dropout 0.2, lr 0.01, batch size 128\n",
            "75/75 [==============================] - 0s 4ms/step - loss: 0.2883 - accuracy: 0.9161\n",
            "conv nodes 64, dense nodes 512, fc_nodes dropout 0.2, lr 0.005, batch size 32\n",
            "75/75 [==============================] - 0s 4ms/step - loss: 0.2886 - accuracy: 0.9161\n",
            "conv nodes 64, dense nodes 512, fc_nodes dropout 0.2, lr 0.005, batch size 64\n",
            "75/75 [==============================] - 0s 4ms/step - loss: 0.0865 - accuracy: 0.9662\n",
            "conv nodes 64, dense nodes 512, fc_nodes dropout 0.2, lr 0.005, batch size 128\n",
            "75/75 [==============================] - 0s 4ms/step - loss: 0.0647 - accuracy: 0.9795\n",
            "conv nodes 64, dense nodes 512, fc_nodes dropout 0.2, lr 0.001, batch size 32\n",
            "75/75 [==============================] - 0s 4ms/step - loss: 0.1216 - accuracy: 0.9820\n",
            "conv nodes 64, dense nodes 512, fc_nodes dropout 0.2, lr 0.001, batch size 64\n",
            "75/75 [==============================] - 0s 4ms/step - loss: 0.1550 - accuracy: 0.9783\n",
            "conv nodes 64, dense nodes 512, fc_nodes dropout 0.2, lr 0.001, batch size 128\n",
            "75/75 [==============================] - 0s 4ms/step - loss: 0.1112 - accuracy: 0.9800\n",
            "conv nodes 128, dense nodes 256, fc_nodes dropout 0, lr 0.01, batch size 32\n",
            "75/75 [==============================] - 0s 6ms/step - loss: 0.2883 - accuracy: 0.9161\n",
            "conv nodes 128, dense nodes 256, fc_nodes dropout 0, lr 0.01, batch size 64\n",
            "75/75 [==============================] - 0s 5ms/step - loss: 0.2885 - accuracy: 0.9161\n",
            "conv nodes 128, dense nodes 256, fc_nodes dropout 0, lr 0.01, batch size 128\n",
            "75/75 [==============================] - 0s 5ms/step - loss: 0.1404 - accuracy: 0.9666\n",
            "conv nodes 128, dense nodes 256, fc_nodes dropout 0, lr 0.005, batch size 32\n",
            "75/75 [==============================] - 0s 5ms/step - loss: 0.2886 - accuracy: 0.9161\n",
            "conv nodes 128, dense nodes 256, fc_nodes dropout 0, lr 0.005, batch size 64\n",
            "75/75 [==============================] - 0s 5ms/step - loss: 0.2132 - accuracy: 0.9766\n",
            "conv nodes 128, dense nodes 256, fc_nodes dropout 0, lr 0.005, batch size 128\n",
            "75/75 [==============================] - 0s 5ms/step - loss: 0.1765 - accuracy: 0.9754\n",
            "conv nodes 128, dense nodes 256, fc_nodes dropout 0, lr 0.001, batch size 32\n",
            "75/75 [==============================] - 0s 5ms/step - loss: 0.3146 - accuracy: 0.9795\n",
            "conv nodes 128, dense nodes 256, fc_nodes dropout 0, lr 0.001, batch size 64\n",
            "75/75 [==============================] - 0s 5ms/step - loss: 0.1334 - accuracy: 0.9779\n",
            "conv nodes 128, dense nodes 256, fc_nodes dropout 0, lr 0.001, batch size 128\n",
            "75/75 [==============================] - 0s 5ms/step - loss: 0.2657 - accuracy: 0.9775\n",
            "conv nodes 128, dense nodes 256, fc_nodes dropout 0.2, lr 0.01, batch size 32\n",
            "75/75 [==============================] - 0s 5ms/step - loss: 0.2884 - accuracy: 0.9161\n",
            "conv nodes 128, dense nodes 256, fc_nodes dropout 0.2, lr 0.01, batch size 64\n",
            "75/75 [==============================] - 0s 5ms/step - loss: 0.2888 - accuracy: 0.9161\n",
            "conv nodes 128, dense nodes 256, fc_nodes dropout 0.2, lr 0.01, batch size 128\n",
            "75/75 [==============================] - 0s 5ms/step - loss: 0.0747 - accuracy: 0.9737\n",
            "conv nodes 128, dense nodes 256, fc_nodes dropout 0.2, lr 0.005, batch size 32\n",
            "75/75 [==============================] - 0s 5ms/step - loss: 0.2887 - accuracy: 0.9161\n",
            "conv nodes 128, dense nodes 256, fc_nodes dropout 0.2, lr 0.005, batch size 64\n",
            "75/75 [==============================] - 0s 5ms/step - loss: 0.2885 - accuracy: 0.9161\n",
            "conv nodes 128, dense nodes 256, fc_nodes dropout 0.2, lr 0.005, batch size 128\n",
            "75/75 [==============================] - 0s 5ms/step - loss: 0.0882 - accuracy: 0.9758\n",
            "conv nodes 128, dense nodes 256, fc_nodes dropout 0.2, lr 0.001, batch size 32\n",
            "75/75 [==============================] - 0s 5ms/step - loss: 0.1607 - accuracy: 0.9820\n",
            "conv nodes 128, dense nodes 256, fc_nodes dropout 0.2, lr 0.001, batch size 64\n",
            "75/75 [==============================] - 0s 5ms/step - loss: 0.1084 - accuracy: 0.9812\n",
            "conv nodes 128, dense nodes 256, fc_nodes dropout 0.2, lr 0.001, batch size 128\n",
            "75/75 [==============================] - 0s 5ms/step - loss: 0.1437 - accuracy: 0.9808\n",
            "conv nodes 128, dense nodes 512, fc_nodes dropout 0, lr 0.01, batch size 32\n",
            "75/75 [==============================] - 0s 5ms/step - loss: 0.2886 - accuracy: 0.9161\n",
            "conv nodes 128, dense nodes 512, fc_nodes dropout 0, lr 0.01, batch size 64\n",
            "75/75 [==============================] - 0s 5ms/step - loss: 0.2886 - accuracy: 0.9161\n",
            "conv nodes 128, dense nodes 512, fc_nodes dropout 0, lr 0.01, batch size 128\n",
            "75/75 [==============================] - 0s 5ms/step - loss: 0.2883 - accuracy: 0.9161\n",
            "conv nodes 128, dense nodes 512, fc_nodes dropout 0, lr 0.005, batch size 32\n",
            "75/75 [==============================] - 0s 5ms/step - loss: 0.2885 - accuracy: 0.9161\n",
            "conv nodes 128, dense nodes 512, fc_nodes dropout 0, lr 0.005, batch size 64\n",
            "75/75 [==============================] - 0s 5ms/step - loss: 0.2884 - accuracy: 0.9161\n",
            "conv nodes 128, dense nodes 512, fc_nodes dropout 0, lr 0.005, batch size 128\n",
            "75/75 [==============================] - 0s 5ms/step - loss: 0.1595 - accuracy: 0.9729\n",
            "conv nodes 128, dense nodes 512, fc_nodes dropout 0, lr 0.001, batch size 32\n",
            "75/75 [==============================] - 0s 5ms/step - loss: 0.2587 - accuracy: 0.9800\n",
            "conv nodes 128, dense nodes 512, fc_nodes dropout 0, lr 0.001, batch size 64\n",
            "75/75 [==============================] - 0s 5ms/step - loss: 0.2640 - accuracy: 0.9800\n",
            "conv nodes 128, dense nodes 512, fc_nodes dropout 0, lr 0.001, batch size 128\n",
            "75/75 [==============================] - 0s 5ms/step - loss: 0.1359 - accuracy: 0.9791\n",
            "conv nodes 128, dense nodes 512, fc_nodes dropout 0.2, lr 0.01, batch size 32\n",
            "75/75 [==============================] - 0s 5ms/step - loss: 0.2883 - accuracy: 0.9161\n",
            "conv nodes 128, dense nodes 512, fc_nodes dropout 0.2, lr 0.01, batch size 64\n",
            "75/75 [==============================] - 0s 5ms/step - loss: 0.2886 - accuracy: 0.9161\n",
            "conv nodes 128, dense nodes 512, fc_nodes dropout 0.2, lr 0.01, batch size 128\n",
            "75/75 [==============================] - 0s 5ms/step - loss: 0.2894 - accuracy: 0.9161\n",
            "conv nodes 128, dense nodes 512, fc_nodes dropout 0.2, lr 0.005, batch size 32\n",
            "75/75 [==============================] - 0s 5ms/step - loss: 0.2884 - accuracy: 0.9161\n",
            "conv nodes 128, dense nodes 512, fc_nodes dropout 0.2, lr 0.005, batch size 64\n",
            "75/75 [==============================] - 0s 5ms/step - loss: 0.2886 - accuracy: 0.9161\n",
            "conv nodes 128, dense nodes 512, fc_nodes dropout 0.2, lr 0.005, batch size 128\n",
            "75/75 [==============================] - 0s 5ms/step - loss: 0.0909 - accuracy: 0.9699\n",
            "conv nodes 128, dense nodes 512, fc_nodes dropout 0.2, lr 0.001, batch size 32\n",
            "75/75 [==============================] - 0s 5ms/step - loss: 0.1511 - accuracy: 0.9687\n",
            "conv nodes 128, dense nodes 512, fc_nodes dropout 0.2, lr 0.001, batch size 64\n",
            "75/75 [==============================] - 0s 5ms/step - loss: 0.1534 - accuracy: 0.9812\n",
            "conv nodes 128, dense nodes 512, fc_nodes dropout 0.2, lr 0.001, batch size 128\n",
            "75/75 [==============================] - 0s 5ms/step - loss: 0.1529 - accuracy: 0.9795\n"
          ]
        }
      ]
    },
    {
      "cell_type": "code",
      "source": [
        "model.save('malaria_least_loss_model.h5')"
      ],
      "metadata": {
        "id": "u3bCJ6dNkNty"
      },
      "execution_count": null,
      "outputs": []
    },
    {
      "cell_type": "code",
      "source": [
        "from tensorflow.keras.models import load_model\n",
        "\n",
        "model = load_model('malaria_least_loss_model.h5')"
      ],
      "metadata": {
        "id": "2BIdmQfFkRm6"
      },
      "execution_count": null,
      "outputs": []
    },
    {
      "cell_type": "code",
      "source": [
        "y_pred = model.predict(X_test)\n",
        "y_pred = y_pred.astype(int).reshape(-1,)\n",
        "y_test = y_test.astype(int).reshape(-1,)"
      ],
      "metadata": {
        "id": "Q0QK10WtuNnM",
        "colab": {
          "base_uri": "https://localhost:8080/"
        },
        "outputId": "9ca141c2-3e26-4d9e-9fa0-d848d4fa1e2d"
      },
      "execution_count": null,
      "outputs": [
        {
          "output_type": "stream",
          "name": "stdout",
          "text": [
            "94/94 [==============================] - 1s 5ms/step\n"
          ]
        }
      ]
    },
    {
      "cell_type": "code",
      "source": [
        "from sklearn.metrics import classification_report\n",
        "print(classification_report(y_test, y_pred))"
      ],
      "metadata": {
        "colab": {
          "base_uri": "https://localhost:8080/"
        },
        "id": "EAJLlPpF7uTm",
        "outputId": "20178a96-d129-43a8-8fef-59b232d2976b"
      },
      "execution_count": null,
      "outputs": [
        {
          "output_type": "stream",
          "name": "stdout",
          "text": [
            "              precision    recall  f1-score   support\n",
            "\n",
            "           0       0.89      1.00      0.94      2993\n",
            "           1       1.00      0.88      0.94      2993\n",
            "\n",
            "    accuracy                           0.94      5986\n",
            "   macro avg       0.94      0.94      0.94      5986\n",
            "weighted avg       0.94      0.94      0.94      5986\n",
            "\n"
          ]
        }
      ]
    }
  ]
}