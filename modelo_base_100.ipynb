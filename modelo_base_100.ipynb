{
  "nbformat": 4,
  "nbformat_minor": 0,
  "metadata": {
    "colab": {
      "provenance": [],
      "gpuType": "T4"
    },
    "kernelspec": {
      "name": "python3",
      "display_name": "Python 3"
    },
    "language_info": {
      "name": "python"
    },
    "accelerator": "GPU"
  },
  "cells": [
    {
      "cell_type": "code",
      "execution_count": null,
      "metadata": {
        "id": "7xXSKt4mbBIL"
      },
      "outputs": [],
      "source": [
        "import numpy as np\n",
        "import cv2\n",
        "import os\n",
        "import zipfile\n",
        "from PIL import Image\n",
        "import tensorflow as tf"
      ]
    },
    {
      "cell_type": "code",
      "source": [
        "from google.colab import drive\n",
        "drive.mount('/content/drive')"
      ],
      "metadata": {
        "colab": {
          "base_uri": "https://localhost:8080/"
        },
        "id": "pD-8crTwB-Z0",
        "outputId": "0d27ec05-5803-4b50-f9a6-50ca83e0338a"
      },
      "execution_count": null,
      "outputs": [
        {
          "output_type": "stream",
          "name": "stdout",
          "text": [
            "Mounted at /content/drive\n"
          ]
        }
      ]
    },
    {
      "cell_type": "code",
      "source": [
        "pip install requests"
      ],
      "metadata": {
        "colab": {
          "base_uri": "https://localhost:8080/"
        },
        "id": "KhaCvu2h3nCb",
        "outputId": "5e1c8cc4-c401-4088-de04-41b8f6b35583"
      },
      "execution_count": null,
      "outputs": [
        {
          "output_type": "stream",
          "name": "stdout",
          "text": [
            "Requirement already satisfied: requests in /usr/local/lib/python3.10/dist-packages (2.31.0)\n",
            "Requirement already satisfied: charset-normalizer<4,>=2 in /usr/local/lib/python3.10/dist-packages (from requests) (3.3.2)\n",
            "Requirement already satisfied: idna<4,>=2.5 in /usr/local/lib/python3.10/dist-packages (from requests) (3.4)\n",
            "Requirement already satisfied: urllib3<3,>=1.21.1 in /usr/local/lib/python3.10/dist-packages (from requests) (2.0.7)\n",
            "Requirement already satisfied: certifi>=2017.4.17 in /usr/local/lib/python3.10/dist-packages (from requests) (2023.7.22)\n"
          ]
        }
      ]
    },
    {
      "cell_type": "code",
      "source": [
        "# Definir o endereço para baixar arquivo\n",
        "!wget -P /content/drive/MyDrive/ELT579/Problema4 https://data.lhncbc.nlm.nih.gov/public/Malaria/cell_images.zip\n"
      ],
      "metadata": {
        "id": "9zuSL3Asb2wh",
        "colab": {
          "base_uri": "https://localhost:8080/"
        },
        "outputId": "384f0338-5514-47b4-e15a-82b4ca6cd52b"
      },
      "execution_count": null,
      "outputs": [
        {
          "output_type": "stream",
          "name": "stdout",
          "text": [
            "--2023-11-09 21:05:27--  https://data.lhncbc.nlm.nih.gov/public/Malaria/cell_images.zip\n",
            "Resolving data.lhncbc.nlm.nih.gov (data.lhncbc.nlm.nih.gov)... 18.238.243.95, 18.238.243.85, 18.238.243.111, ...\n",
            "Connecting to data.lhncbc.nlm.nih.gov (data.lhncbc.nlm.nih.gov)|18.238.243.95|:443... connected.\n",
            "HTTP request sent, awaiting response... 200 OK\n",
            "Length: 353452851 (337M) [application/zip]\n",
            "Saving to: ‘/content/drive/MyDrive/ELT579/Problema4/cell_images.zip’\n",
            "\n",
            "cell_images.zip     100%[===================>] 337.08M  25.7MB/s    in 13s     \n",
            "\n",
            "2023-11-09 21:05:41 (25.4 MB/s) - ‘/content/drive/MyDrive/ELT579/Problema4/cell_images.zip’ saved [353452851/353452851]\n",
            "\n"
          ]
        }
      ]
    },
    {
      "cell_type": "code",
      "source": [
        "# Extrair conteúdo dos arquivos comprimidos\n",
        "local_zip = '/content/drive/MyDrive/ELT579/Problema4/cell_images.zip'\n",
        "zip_ref = zipfile.ZipFile(local_zip, 'r')\n",
        "zip_ref.extractall('/content/drive/MyDrive/ELT579/Problema4')\n",
        "zip_ref.close()"
      ],
      "metadata": {
        "id": "Rxh8sYBx50Ve"
      },
      "execution_count": null,
      "outputs": []
    },
    {
      "cell_type": "code",
      "source": [
        "pasta = '/content/drive/MyDrive/ELT579/Problema4/cell_images/'\n",
        "\n",
        "positivas = os.listdir(pasta + 'Parasitized/')\n",
        "\n",
        "negativas = os.listdir(pasta + 'Uninfected/')"
      ],
      "metadata": {
        "id": "xzVO5Nz79fTs"
      },
      "execution_count": null,
      "outputs": []
    },
    {
      "cell_type": "code",
      "source": [
        "dataset = list()\n",
        "\n",
        "label = list()\n",
        "\n",
        "SIZE = 64\n",
        "\n",
        "for i, image_name in enumerate(positivas):\n",
        "  if(image_name.split('.')[1] == 'png'):\n",
        "    img = cv2.imread(pasta + 'Parasitized/' + image_name)\n",
        "    img = Image.fromarray(img, 'RGB')\n",
        "    img = img.resize((SIZE, SIZE))\n",
        "    dataset.append(np.array(img))\n",
        "    label.append(1)\n",
        "\n",
        "for i, image_name in enumerate(negativas):\n",
        "  if(image_name.split('.')[1] == 'png'):\n",
        "    img = cv2.imread(pasta + 'Uninfected/' + image_name)\n",
        "    img = Image.fromarray(img, 'RGB')\n",
        "    img = img.resize((SIZE, SIZE))\n",
        "    dataset.append(np.array(img))\n",
        "    label.append(0)"
      ],
      "metadata": {
        "id": "m_6LEadddCbM"
      },
      "execution_count": null,
      "outputs": []
    },
    {
      "cell_type": "code",
      "source": [
        "import matplotlib.pyplot as plt\n",
        "\n",
        "print('label = ', label[-2])\n",
        "\n",
        "print('imagem')\n",
        "plt.imshow(dataset[-2])"
      ],
      "metadata": {
        "colab": {
          "base_uri": "https://localhost:8080/",
          "height": 484
        },
        "id": "FloEBnQSxT3K",
        "outputId": "4601e791-4830-4500-8a81-9fde63d8573d"
      },
      "execution_count": null,
      "outputs": [
        {
          "output_type": "stream",
          "name": "stdout",
          "text": [
            "label =  0\n",
            "imagem\n"
          ]
        },
        {
          "output_type": "execute_result",
          "data": {
            "text/plain": [
              "<matplotlib.image.AxesImage at 0x7d017bcb0400>"
            ]
          },
          "metadata": {},
          "execution_count": 7
        },
        {
          "output_type": "display_data",
          "data": {
            "text/plain": [
              "<Figure size 640x480 with 1 Axes>"
            ],
            "image/png": "[encoded data removed]"
          },
          "metadata": {}
        }
      ]
    },
    {
      "cell_type": "code",
      "source": [
        "X = np.array(dataset)\n",
        "\n",
        "X = X/255.0\n",
        "\n",
        "y = tf.keras.utils.to_categorical(np.array(label))\n",
        "\n"
      ],
      "metadata": {
        "id": "caSO7Pvd1p85"
      },
      "execution_count": null,
      "outputs": []
    },
    {
      "cell_type": "code",
      "source": [
        "print(np.shape(X))"
      ],
      "metadata": {
        "colab": {
          "base_uri": "https://localhost:8080/"
        },
        "id": "VXwTRUhP2CJc",
        "outputId": "20a6fa66-c547-4dc5-fe58-a063bd4aa6a4"
      },
      "execution_count": null,
      "outputs": [
        {
          "output_type": "stream",
          "name": "stdout",
          "text": [
            "(27558, 64, 64, 3)\n"
          ]
        }
      ]
    },
    {
      "cell_type": "code",
      "source": [
        "print(np.shape(y))"
      ],
      "metadata": {
        "colab": {
          "base_uri": "https://localhost:8080/"
        },
        "id": "Tk6H83UJyk9u",
        "outputId": "fcca6bb6-bb42-4886-8562-ad01492c34b8"
      },
      "execution_count": null,
      "outputs": [
        {
          "output_type": "stream",
          "name": "stdout",
          "text": [
            "(27558, 2)\n"
          ]
        }
      ]
    },
    {
      "cell_type": "code",
      "source": [
        "print(y)"
      ],
      "metadata": {
        "colab": {
          "base_uri": "https://localhost:8080/"
        },
        "id": "kFGhAe2417ON",
        "outputId": "efd9776e-39df-456c-c05e-1a5fc267162b"
      },
      "execution_count": null,
      "outputs": [
        {
          "output_type": "stream",
          "name": "stdout",
          "text": [
            "[[0. 1.]\n",
            " [0. 1.]\n",
            " [0. 1.]\n",
            " ...\n",
            " [1. 0.]\n",
            " [1. 0.]\n",
            " [1. 0.]]\n"
          ]
        }
      ]
    },
    {
      "cell_type": "code",
      "source": [
        "from sklearn.model_selection import train_test_split\n",
        "\n",
        "X_train, X_test, y_train, y_test = train_test_split(X, y, test_size = 0.20, random_state = 0)\n",
        "X_train, X_val, y_train, y_val  = train_test_split(X_train, y_train, test_size=0.20, random_state=0)"
      ],
      "metadata": {
        "id": "4GtqxTJH3m9Z"
      },
      "execution_count": null,
      "outputs": []
    },
    {
      "cell_type": "code",
      "source": [
        "print(np.shape(X_train))\n",
        "\n",
        "print(np.shape(y_train))"
      ],
      "metadata": {
        "colab": {
          "base_uri": "https://localhost:8080/"
        },
        "id": "hqc5VuBHfCfv",
        "outputId": "a448edcd-cd54-4815-d3b3-6d4212a4b491"
      },
      "execution_count": null,
      "outputs": [
        {
          "output_type": "stream",
          "name": "stdout",
          "text": [
            "(17636, 64, 64, 3)\n",
            "(17636, 2)\n"
          ]
        }
      ]
    },
    {
      "cell_type": "code",
      "source": [
        "print(np.shape(X_test))\n",
        "\n",
        "print(np.shape(y_test))"
      ],
      "metadata": {
        "colab": {
          "base_uri": "https://localhost:8080/"
        },
        "id": "mZtJsyIsyIs3",
        "outputId": "a6eda5e0-5f32-4ff5-f08b-8a92c97553c3"
      },
      "execution_count": null,
      "outputs": [
        {
          "output_type": "stream",
          "name": "stdout",
          "text": [
            "(5512, 64, 64, 3)\n",
            "(5512, 2)\n"
          ]
        }
      ]
    },
    {
      "cell_type": "code",
      "source": [
        "print(np.shape(X_val))\n",
        "\n",
        "print(np.shape(y_val))"
      ],
      "metadata": {
        "colab": {
          "base_uri": "https://localhost:8080/"
        },
        "id": "3DGdFu3lyJpA",
        "outputId": "62cffe99-4fed-4324-dff7-f369d76d6c71"
      },
      "execution_count": null,
      "outputs": [
        {
          "output_type": "stream",
          "name": "stdout",
          "text": [
            "(4410, 64, 64, 3)\n",
            "(4410, 2)\n"
          ]
        }
      ]
    },
    {
      "cell_type": "code",
      "source": [
        "TAM = (SIZE, SIZE, 3)\n",
        "\n",
        "inp = tf.keras.Input(shape = TAM)\n",
        "\n",
        "conv1 = tf.keras.layers.Conv2D(32, kernel_size = (3,3), activation = 'relu', padding = 'same')(inp)\n",
        "pool1 = tf.keras.layers.MaxPooling2D(pool_size = (2,2))(conv1)\n",
        "drop1 = tf.keras.layers.Dropout(rate = 0.2)(pool1)\n",
        "\n",
        "conv2 = tf.keras.layers.Conv2D(32, kernel_size = (3,3), activation = 'relu', padding = 'same')(drop1)\n",
        "pool2 = tf.keras.layers.MaxPooling2D(pool_size = (2,2))(conv2)\n",
        "drop2 = tf.keras.layers.Dropout(rate = 0.2)(pool2)\n",
        "\n",
        "conv3 = tf.keras.layers.Conv2D(64, kernel_size = (3,3), activation = 'relu', padding = 'same')(drop2)\n",
        "pool3 = tf.keras.layers.MaxPooling2D(pool_size = (2,2))(conv3)\n",
        "drop3 = tf.keras.layers.Dropout(rate = 0.2)(pool3)\n",
        "\n",
        "conv4 = tf.keras.layers.Conv2D(64, kernel_size = (3,3), activation = 'relu', padding = 'same')(drop3)\n",
        "pool4 = tf.keras.layers.MaxPooling2D(pool_size = (2,2))(conv4)\n",
        "drop4 = tf.keras.layers.Dropout(rate = 0.2)(pool4)\n",
        "\n",
        "conv5 = tf.keras.layers.Conv2D(128, kernel_size = (3,3), activation = 'relu', padding = 'same')(drop4)\n",
        "pool5 = tf.keras.layers.MaxPooling2D(pool_size = (2,2))(conv5)\n",
        "drop5 = tf.keras.layers.Dropout(rate = 0.2)(pool5)\n",
        "\n",
        "flat = tf.keras.layers.Flatten()(drop5)\n",
        "\n",
        "dense1 = tf.keras.layers.Dense(512, activation = 'relu')(flat)\n",
        "drop6 = tf.keras.layers.Dropout(rate = 0.2)(dense1)\n",
        "\n",
        "dense2 = tf.keras.layers.Dense(256, activation = 'relu')(drop6)\n",
        "drop7 = tf.keras.layers.Dropout(rate = 0.2)(dense2)\n",
        "\n",
        "out = tf.keras.layers.Dense(2, activation = 'sigmoid')(drop7)\n",
        "\n",
        "model = tf.keras.Model(inputs = inp, outputs = out)\n",
        "\n",
        "opt = tf.keras.optimizers.Adam(learning_rate = 0.001)\n",
        "\n",
        "model.compile(optimizer = opt, loss = 'binary_crossentropy', metrics = 'accuracy')\n",
        "\n",
        "model.summary()\n"
      ],
      "metadata": {
        "colab": {
          "base_uri": "https://localhost:8080/"
        },
        "id": "ArfZAKLIicpV",
        "outputId": "c55ba919-718a-4fac-c736-f709bfa7a4d9"
      },
      "execution_count": null,
      "outputs": [
        {
          "output_type": "stream",
          "name": "stdout",
          "text": [
            "Model: \"model_1\"\n",
            "_________________________________________________________________\n",
            " Layer (type)                Output Shape              Param #   \n",
            "=================================================================\n",
            " input_2 (InputLayer)        [(None, 64, 64, 3)]       0         \n",
            "                                                                 \n",
            " conv2d_5 (Conv2D)           (None, 64, 64, 32)        896       \n",
            "                                                                 \n",
            " max_pooling2d_5 (MaxPoolin  (None, 32, 32, 32)        0         \n",
            " g2D)                                                            \n",
            "                                                                 \n",
            " dropout_7 (Dropout)         (None, 32, 32, 32)        0         \n",
            "                                                                 \n",
            " conv2d_6 (Conv2D)           (None, 32, 32, 32)        9248      \n",
            "                                                                 \n",
            " max_pooling2d_6 (MaxPoolin  (None, 16, 16, 32)        0         \n",
            " g2D)                                                            \n",
            "                                                                 \n",
            " dropout_8 (Dropout)         (None, 16, 16, 32)        0         \n",
            "                                                                 \n",
            " conv2d_7 (Conv2D)           (None, 16, 16, 64)        18496     \n",
            "                                                                 \n",
            " max_pooling2d_7 (MaxPoolin  (None, 8, 8, 64)          0         \n",
            " g2D)                                                            \n",
            "                                                                 \n",
            " dropout_9 (Dropout)         (None, 8, 8, 64)          0         \n",
            "                                                                 \n",
            " conv2d_8 (Conv2D)           (None, 8, 8, 64)          36928     \n",
            "                                                                 \n",
            " max_pooling2d_8 (MaxPoolin  (None, 4, 4, 64)          0         \n",
            " g2D)                                                            \n",
            "                                                                 \n",
            " dropout_10 (Dropout)        (None, 4, 4, 64)          0         \n",
            "                                                                 \n",
            " conv2d_9 (Conv2D)           (None, 4, 4, 128)         73856     \n",
            "                                                                 \n",
            " max_pooling2d_9 (MaxPoolin  (None, 2, 2, 128)         0         \n",
            " g2D)                                                            \n",
            "                                                                 \n",
            " dropout_11 (Dropout)        (None, 2, 2, 128)         0         \n",
            "                                                                 \n",
            " flatten_1 (Flatten)         (None, 512)               0         \n",
            "                                                                 \n",
            " dense_3 (Dense)             (None, 512)               262656    \n",
            "                                                                 \n",
            " dropout_12 (Dropout)        (None, 512)               0         \n",
            "                                                                 \n",
            " dense_4 (Dense)             (None, 256)               131328    \n",
            "                                                                 \n",
            " dropout_13 (Dropout)        (None, 256)               0         \n",
            "                                                                 \n",
            " dense_5 (Dense)             (None, 2)                 514       \n",
            "                                                                 \n",
            "=================================================================\n",
            "Total params: 533922 (2.04 MB)\n",
            "Trainable params: 533922 (2.04 MB)\n",
            "Non-trainable params: 0 (0.00 Byte)\n",
            "_________________________________________________________________\n"
          ]
        }
      ]
    },
    {
      "cell_type": "code",
      "source": [
        "#callback = tf.keras.callbacks.EarlyStopping(\n",
        " #                     patience=10,\n",
        "  #                    min_delta=0.001,\n",
        "   #                   monitor=\"val_loss\",\n",
        "    #                  restore_best_weights=True\n",
        "#)\n",
        "\n",
        "history = model.fit(X_train,\n",
        "                    y_train,\n",
        "                    batch_size = 32,\n",
        "                    validation_split = 0.1,\n",
        " #                   callbacks=[callback],\n",
        "                    epochs = 100, verbose = 1)"
      ],
      "metadata": {
        "colab": {
          "base_uri": "https://localhost:8080/"
        },
        "id": "3_MfrIYFmyL3",
        "outputId": "81d5c63a-3e1c-41bc-a593-6c3b77833320"
      },
      "execution_count": null,
      "outputs": [
        {
          "output_type": "stream",
          "name": "stdout",
          "text": [
            "Epoch 1/100\n",
            "496/496 [==============================] - 109s 219ms/step - loss: 0.4146 - accuracy: 0.7665 - val_loss: 0.1545 - val_accuracy: 0.9546\n",
            "Epoch 2/100\n",
            "496/496 [==============================] - 102s 205ms/step - loss: 0.1695 - accuracy: 0.9502 - val_loss: 0.1461 - val_accuracy: 0.9598\n",
            "Epoch 3/100\n",
            "496/496 [==============================] - 110s 221ms/step - loss: 0.1664 - accuracy: 0.9506 - val_loss: 0.1445 - val_accuracy: 0.9541\n",
            "Epoch 4/100\n",
            "496/496 [==============================] - 101s 204ms/step - loss: 0.1575 - accuracy: 0.9527 - val_loss: 0.1558 - val_accuracy: 0.9575\n",
            "Epoch 5/100\n",
            "496/496 [==============================] - 107s 215ms/step - loss: 0.1510 - accuracy: 0.9539 - val_loss: 0.1512 - val_accuracy: 0.9586\n",
            "Epoch 6/100\n",
            "496/496 [==============================] - 106s 213ms/step - loss: 0.1482 - accuracy: 0.9550 - val_loss: 0.1346 - val_accuracy: 0.9603\n",
            "Epoch 7/100\n",
            "496/496 [==============================] - 102s 205ms/step - loss: 0.1445 - accuracy: 0.9558 - val_loss: 0.1255 - val_accuracy: 0.9615\n",
            "Epoch 8/100\n",
            "496/496 [==============================] - 101s 203ms/step - loss: 0.1402 - accuracy: 0.9553 - val_loss: 0.1225 - val_accuracy: 0.9615\n",
            "Epoch 9/100\n",
            "496/496 [==============================] - 99s 200ms/step - loss: 0.1372 - accuracy: 0.9570 - val_loss: 0.1481 - val_accuracy: 0.9580\n",
            "Epoch 10/100\n",
            "496/496 [==============================] - 100s 201ms/step - loss: 0.1395 - accuracy: 0.9556 - val_loss: 0.1288 - val_accuracy: 0.9586\n",
            "Epoch 11/100\n",
            "496/496 [==============================] - 101s 203ms/step - loss: 0.1350 - accuracy: 0.9577 - val_loss: 0.1190 - val_accuracy: 0.9620\n",
            "Epoch 12/100\n",
            "496/496 [==============================] - 102s 205ms/step - loss: 0.1337 - accuracy: 0.9585 - val_loss: 0.1183 - val_accuracy: 0.9598\n",
            "Epoch 13/100\n",
            "496/496 [==============================] - 96s 193ms/step - loss: 0.1289 - accuracy: 0.9591 - val_loss: 0.1238 - val_accuracy: 0.9603\n",
            "Epoch 14/100\n",
            "496/496 [==============================] - 105s 211ms/step - loss: 0.1271 - accuracy: 0.9585 - val_loss: 0.1493 - val_accuracy: 0.9524\n",
            "Epoch 15/100\n",
            "496/496 [==============================] - 99s 200ms/step - loss: 0.1263 - accuracy: 0.9581 - val_loss: 0.1316 - val_accuracy: 0.9603\n",
            "Epoch 16/100\n",
            "496/496 [==============================] - 105s 211ms/step - loss: 0.1252 - accuracy: 0.9606 - val_loss: 0.1236 - val_accuracy: 0.9620\n",
            "Epoch 17/100\n",
            "496/496 [==============================] - 95s 192ms/step - loss: 0.1266 - accuracy: 0.9589 - val_loss: 0.1249 - val_accuracy: 0.9615\n",
            "Epoch 18/100\n",
            "496/496 [==============================] - 104s 209ms/step - loss: 0.1238 - accuracy: 0.9589 - val_loss: 0.1246 - val_accuracy: 0.9609\n",
            "Epoch 19/100\n",
            "496/496 [==============================] - 99s 199ms/step - loss: 0.1217 - accuracy: 0.9603 - val_loss: 0.1430 - val_accuracy: 0.9603\n",
            "Epoch 20/100\n",
            "496/496 [==============================] - 98s 198ms/step - loss: 0.1197 - accuracy: 0.9597 - val_loss: 0.1438 - val_accuracy: 0.9580\n",
            "Epoch 21/100\n",
            "496/496 [==============================] - 101s 205ms/step - loss: 0.1184 - accuracy: 0.9613 - val_loss: 0.1261 - val_accuracy: 0.9609\n",
            "Epoch 22/100\n",
            "496/496 [==============================] - 98s 198ms/step - loss: 0.1187 - accuracy: 0.9618 - val_loss: 0.1118 - val_accuracy: 0.9637\n",
            "Epoch 23/100\n",
            "496/496 [==============================] - 100s 202ms/step - loss: 0.1228 - accuracy: 0.9602 - val_loss: 0.1169 - val_accuracy: 0.9632\n",
            "Epoch 24/100\n",
            "496/496 [==============================] - 99s 199ms/step - loss: 0.1150 - accuracy: 0.9610 - val_loss: 0.1178 - val_accuracy: 0.9632\n",
            "Epoch 25/100\n",
            "496/496 [==============================] - 100s 202ms/step - loss: 0.1165 - accuracy: 0.9611 - val_loss: 0.1391 - val_accuracy: 0.9586\n",
            "Epoch 26/100\n",
            "496/496 [==============================] - 102s 205ms/step - loss: 0.1165 - accuracy: 0.9618 - val_loss: 0.1309 - val_accuracy: 0.9620\n",
            "Epoch 27/100\n",
            "496/496 [==============================] - 99s 200ms/step - loss: 0.1129 - accuracy: 0.9628 - val_loss: 0.1174 - val_accuracy: 0.9632\n",
            "Epoch 28/100\n",
            "496/496 [==============================] - 101s 203ms/step - loss: 0.1103 - accuracy: 0.9636 - val_loss: 0.1263 - val_accuracy: 0.9660\n",
            "Epoch 29/100\n",
            "496/496 [==============================] - 102s 206ms/step - loss: 0.1100 - accuracy: 0.9633 - val_loss: 0.1290 - val_accuracy: 0.9603\n",
            "Epoch 30/100\n",
            "496/496 [==============================] - 102s 206ms/step - loss: 0.1111 - accuracy: 0.9640 - val_loss: 0.1202 - val_accuracy: 0.9620\n",
            "Epoch 31/100\n",
            "496/496 [==============================] - 100s 202ms/step - loss: 0.1065 - accuracy: 0.9652 - val_loss: 0.1318 - val_accuracy: 0.9609\n",
            "Epoch 32/100\n",
            "496/496 [==============================] - 102s 207ms/step - loss: 0.1105 - accuracy: 0.9634 - val_loss: 0.1296 - val_accuracy: 0.9592\n",
            "Epoch 33/100\n",
            "496/496 [==============================] - 99s 200ms/step - loss: 0.1069 - accuracy: 0.9636 - val_loss: 0.1339 - val_accuracy: 0.9632\n",
            "Epoch 34/100\n",
            "496/496 [==============================] - 100s 202ms/step - loss: 0.1121 - accuracy: 0.9626 - val_loss: 0.1255 - val_accuracy: 0.9620\n",
            "Epoch 35/100\n",
            "496/496 [==============================] - 100s 202ms/step - loss: 0.1035 - accuracy: 0.9643 - val_loss: 0.1399 - val_accuracy: 0.9563\n",
            "Epoch 36/100\n",
            "496/496 [==============================] - 100s 201ms/step - loss: 0.1028 - accuracy: 0.9650 - val_loss: 0.1219 - val_accuracy: 0.9626\n",
            "Epoch 37/100\n",
            "496/496 [==============================] - 99s 200ms/step - loss: 0.1020 - accuracy: 0.9668 - val_loss: 0.1335 - val_accuracy: 0.9563\n",
            "Epoch 38/100\n",
            "496/496 [==============================] - 97s 196ms/step - loss: 0.1030 - accuracy: 0.9645 - val_loss: 0.1492 - val_accuracy: 0.9603\n",
            "Epoch 39/100\n",
            "496/496 [==============================] - 102s 205ms/step - loss: 0.1037 - accuracy: 0.9657 - val_loss: 0.1189 - val_accuracy: 0.9632\n",
            "Epoch 40/100\n",
            "496/496 [==============================] - 97s 194ms/step - loss: 0.1041 - accuracy: 0.9643 - val_loss: 0.1283 - val_accuracy: 0.9609\n",
            "Epoch 41/100\n",
            "496/496 [==============================] - 102s 205ms/step - loss: 0.1037 - accuracy: 0.9640 - val_loss: 0.1381 - val_accuracy: 0.9598\n",
            "Epoch 42/100\n",
            "496/496 [==============================] - 97s 196ms/step - loss: 0.1012 - accuracy: 0.9673 - val_loss: 0.1488 - val_accuracy: 0.9558\n",
            "Epoch 43/100\n",
            "496/496 [==============================] - 104s 210ms/step - loss: 0.0996 - accuracy: 0.9654 - val_loss: 0.1318 - val_accuracy: 0.9603\n",
            "Epoch 44/100\n",
            "496/496 [==============================] - 95s 192ms/step - loss: 0.1013 - accuracy: 0.9667 - val_loss: 0.1312 - val_accuracy: 0.9615\n",
            "Epoch 45/100\n",
            "496/496 [==============================] - 102s 206ms/step - loss: 0.0978 - accuracy: 0.9660 - val_loss: 0.1450 - val_accuracy: 0.9552\n",
            "Epoch 46/100\n",
            "496/496 [==============================] - 96s 194ms/step - loss: 0.0964 - accuracy: 0.9655 - val_loss: 0.1347 - val_accuracy: 0.9603\n",
            "Epoch 47/100\n",
            "496/496 [==============================] - 100s 202ms/step - loss: 0.0986 - accuracy: 0.9660 - val_loss: 0.1296 - val_accuracy: 0.9620\n",
            "Epoch 48/100\n",
            "496/496 [==============================] - 99s 199ms/step - loss: 0.0993 - accuracy: 0.9660 - val_loss: 0.1363 - val_accuracy: 0.9615\n",
            "Epoch 49/100\n",
            "496/496 [==============================] - 99s 200ms/step - loss: 0.0998 - accuracy: 0.9662 - val_loss: 0.1383 - val_accuracy: 0.9546\n",
            "Epoch 50/100\n",
            "496/496 [==============================] - 101s 204ms/step - loss: 0.0970 - accuracy: 0.9660 - val_loss: 0.1507 - val_accuracy: 0.9603\n",
            "Epoch 51/100\n",
            "496/496 [==============================] - 99s 199ms/step - loss: 0.0961 - accuracy: 0.9667 - val_loss: 0.1764 - val_accuracy: 0.9433\n",
            "Epoch 52/100\n",
            "496/496 [==============================] - 101s 204ms/step - loss: 0.0973 - accuracy: 0.9662 - val_loss: 0.1377 - val_accuracy: 0.9575\n",
            "Epoch 53/100\n",
            "496/496 [==============================] - 98s 197ms/step - loss: 0.0899 - accuracy: 0.9690 - val_loss: 0.1287 - val_accuracy: 0.9598\n",
            "Epoch 54/100\n",
            "496/496 [==============================] - 101s 203ms/step - loss: 0.0967 - accuracy: 0.9676 - val_loss: 0.1542 - val_accuracy: 0.9563\n",
            "Epoch 55/100\n",
            "496/496 [==============================] - 99s 200ms/step - loss: 0.0900 - accuracy: 0.9699 - val_loss: 0.1277 - val_accuracy: 0.9563\n",
            "Epoch 56/100\n",
            "496/496 [==============================] - 101s 203ms/step - loss: 0.0923 - accuracy: 0.9679 - val_loss: 0.1363 - val_accuracy: 0.9586\n",
            "Epoch 57/100\n",
            "496/496 [==============================] - 99s 199ms/step - loss: 0.0950 - accuracy: 0.9665 - val_loss: 0.1377 - val_accuracy: 0.9598\n",
            "Epoch 58/100\n",
            "496/496 [==============================] - 100s 202ms/step - loss: 0.0960 - accuracy: 0.9672 - val_loss: 0.1408 - val_accuracy: 0.9598\n",
            "Epoch 59/100\n",
            "496/496 [==============================] - 98s 198ms/step - loss: 0.0915 - accuracy: 0.9681 - val_loss: 0.1423 - val_accuracy: 0.9586\n",
            "Epoch 60/100\n",
            "496/496 [==============================] - 101s 204ms/step - loss: 0.0914 - accuracy: 0.9682 - val_loss: 0.1352 - val_accuracy: 0.9609\n",
            "Epoch 61/100\n",
            "496/496 [==============================] - 96s 193ms/step - loss: 0.0901 - accuracy: 0.9684 - val_loss: 0.1507 - val_accuracy: 0.9603\n",
            "Epoch 62/100\n",
            "496/496 [==============================] - 104s 209ms/step - loss: 0.0906 - accuracy: 0.9686 - val_loss: 0.1698 - val_accuracy: 0.9552\n",
            "Epoch 63/100\n",
            "496/496 [==============================] - 95s 191ms/step - loss: 0.0942 - accuracy: 0.9669 - val_loss: 0.1358 - val_accuracy: 0.9586\n",
            "Epoch 64/100\n",
            "496/496 [==============================] - 102s 207ms/step - loss: 0.0902 - accuracy: 0.9689 - val_loss: 0.1687 - val_accuracy: 0.9529\n",
            "Epoch 65/100\n",
            "496/496 [==============================] - 98s 198ms/step - loss: 0.0878 - accuracy: 0.9701 - val_loss: 0.1525 - val_accuracy: 0.9603\n",
            "Epoch 66/100\n",
            "496/496 [==============================] - 105s 212ms/step - loss: 0.0880 - accuracy: 0.9689 - val_loss: 0.1558 - val_accuracy: 0.9563\n",
            "Epoch 67/100\n",
            "496/496 [==============================] - 95s 192ms/step - loss: 0.0898 - accuracy: 0.9689 - val_loss: 0.1626 - val_accuracy: 0.9603\n",
            "Epoch 68/100\n",
            "496/496 [==============================] - 100s 202ms/step - loss: 0.0889 - accuracy: 0.9698 - val_loss: 0.1458 - val_accuracy: 0.9558\n",
            "Epoch 69/100\n",
            "496/496 [==============================] - 99s 200ms/step - loss: 0.0845 - accuracy: 0.9706 - val_loss: 0.1255 - val_accuracy: 0.9620\n",
            "Epoch 70/100\n",
            "496/496 [==============================] - 101s 203ms/step - loss: 0.0887 - accuracy: 0.9703 - val_loss: 0.1543 - val_accuracy: 0.9586\n",
            "Epoch 71/100\n",
            "496/496 [==============================] - 102s 206ms/step - loss: 0.0832 - accuracy: 0.9694 - val_loss: 0.1367 - val_accuracy: 0.9643\n",
            "Epoch 72/100\n",
            "496/496 [==============================] - 99s 200ms/step - loss: 0.0849 - accuracy: 0.9704 - val_loss: 0.1321 - val_accuracy: 0.9603\n",
            "Epoch 73/100\n",
            "496/496 [==============================] - 101s 203ms/step - loss: 0.0852 - accuracy: 0.9696 - val_loss: 0.1192 - val_accuracy: 0.9626\n",
            "Epoch 74/100\n",
            "496/496 [==============================] - 99s 200ms/step - loss: 0.0929 - accuracy: 0.9697 - val_loss: 0.1428 - val_accuracy: 0.9609\n",
            "Epoch 75/100\n",
            "496/496 [==============================] - 101s 203ms/step - loss: 0.0837 - accuracy: 0.9684 - val_loss: 0.1581 - val_accuracy: 0.9563\n",
            "Epoch 76/100\n",
            "496/496 [==============================] - 95s 192ms/step - loss: 0.0834 - accuracy: 0.9715 - val_loss: 0.1379 - val_accuracy: 0.9609\n",
            "Epoch 77/100\n",
            "496/496 [==============================] - 104s 209ms/step - loss: 0.0824 - accuracy: 0.9701 - val_loss: 0.1692 - val_accuracy: 0.9569\n",
            "Epoch 78/100\n",
            "496/496 [==============================] - 98s 197ms/step - loss: 0.0873 - accuracy: 0.9704 - val_loss: 0.1318 - val_accuracy: 0.9598\n",
            "Epoch 79/100\n",
            "496/496 [==============================] - 102s 206ms/step - loss: 0.0859 - accuracy: 0.9712 - val_loss: 0.1394 - val_accuracy: 0.9637\n",
            "Epoch 80/100\n",
            "496/496 [==============================] - 97s 196ms/step - loss: 0.0848 - accuracy: 0.9711 - val_loss: 0.1584 - val_accuracy: 0.9609\n",
            "Epoch 81/100\n",
            "496/496 [==============================] - 102s 206ms/step - loss: 0.0813 - accuracy: 0.9714 - val_loss: 0.1591 - val_accuracy: 0.9535\n",
            "Epoch 82/100\n",
            "496/496 [==============================] - 97s 196ms/step - loss: 0.0819 - accuracy: 0.9705 - val_loss: 0.1421 - val_accuracy: 0.9580\n",
            "Epoch 83/100\n",
            "496/496 [==============================] - 104s 209ms/step - loss: 0.0819 - accuracy: 0.9714 - val_loss: 0.1423 - val_accuracy: 0.9615\n",
            "Epoch 84/100\n",
            "496/496 [==============================] - 96s 192ms/step - loss: 0.0844 - accuracy: 0.9706 - val_loss: 0.1295 - val_accuracy: 0.9558\n",
            "Epoch 85/100\n",
            "496/496 [==============================] - 100s 202ms/step - loss: 0.0807 - accuracy: 0.9718 - val_loss: 0.1289 - val_accuracy: 0.9626\n",
            "Epoch 86/100\n",
            "496/496 [==============================] - 99s 199ms/step - loss: 0.0797 - accuracy: 0.9725 - val_loss: 0.1481 - val_accuracy: 0.9490\n",
            "Epoch 87/100\n",
            "496/496 [==============================] - 102s 206ms/step - loss: 0.0770 - accuracy: 0.9725 - val_loss: 0.1506 - val_accuracy: 0.9546\n",
            "Epoch 88/100\n",
            "496/496 [==============================] - 98s 198ms/step - loss: 0.0851 - accuracy: 0.9709 - val_loss: 0.1449 - val_accuracy: 0.9569\n",
            "Epoch 89/100\n",
            "496/496 [==============================] - 97s 196ms/step - loss: 0.0820 - accuracy: 0.9716 - val_loss: 0.1643 - val_accuracy: 0.9524\n",
            "Epoch 90/100\n",
            "496/496 [==============================] - 103s 207ms/step - loss: 0.0802 - accuracy: 0.9730 - val_loss: 0.1441 - val_accuracy: 0.9580\n",
            "Epoch 91/100\n",
            "496/496 [==============================] - 98s 197ms/step - loss: 0.0835 - accuracy: 0.9715 - val_loss: 0.1357 - val_accuracy: 0.9603\n",
            "Epoch 92/100\n",
            "496/496 [==============================] - 102s 205ms/step - loss: 0.0786 - accuracy: 0.9726 - val_loss: 0.1339 - val_accuracy: 0.9632\n",
            "Epoch 93/100\n",
            "496/496 [==============================] - 96s 194ms/step - loss: 0.0771 - accuracy: 0.9726 - val_loss: 0.1586 - val_accuracy: 0.9552\n",
            "Epoch 94/100\n",
            "496/496 [==============================] - 103s 207ms/step - loss: 0.0829 - accuracy: 0.9706 - val_loss: 0.1579 - val_accuracy: 0.9563\n",
            "Epoch 95/100\n",
            "496/496 [==============================] - 96s 194ms/step - loss: 0.0796 - accuracy: 0.9734 - val_loss: 0.1522 - val_accuracy: 0.9552\n",
            "Epoch 96/100\n",
            "496/496 [==============================] - 102s 205ms/step - loss: 0.0747 - accuracy: 0.9739 - val_loss: 0.1357 - val_accuracy: 0.9615\n",
            "Epoch 97/100\n",
            "496/496 [==============================] - 99s 200ms/step - loss: 0.0761 - accuracy: 0.9725 - val_loss: 0.1697 - val_accuracy: 0.9569\n",
            "Epoch 98/100\n",
            "496/496 [==============================] - 102s 205ms/step - loss: 0.0774 - accuracy: 0.9728 - val_loss: 0.1763 - val_accuracy: 0.9569\n",
            "Epoch 99/100\n",
            "496/496 [==============================] - 98s 197ms/step - loss: 0.0763 - accuracy: 0.9725 - val_loss: 0.1500 - val_accuracy: 0.9626\n",
            "Epoch 100/100\n",
            "496/496 [==============================] - 101s 204ms/step - loss: 0.0758 - accuracy: 0.9725 - val_loss: 0.1603 - val_accuracy: 0.9535\n"
          ]
        }
      ]
    },
    {
      "cell_type": "code",
      "source": [
        "loss = history.history['accuracy']\n",
        "val_loss = history.history['val_accuracy']\n",
        "\n",
        "epochs = range(1, len(loss) + 1)\n",
        "\n",
        "plt.plot(epochs, loss, 'y', label = \"Treinamento\")\n",
        "plt.plot(epochs, val_loss, 'r', label = \"Validação\")\n",
        "\n",
        "plt.title(\"Treinamento vs validação\")\n",
        "plt.xlabel(\"Épocas\")\n",
        "plt.ylabel(\"Acurácia global\")\n",
        "plt.legend()\n",
        "\n",
        "plt.show()"
      ],
      "metadata": {
        "colab": {
          "base_uri": "https://localhost:8080/",
          "height": 474
        },
        "id": "NWXfMpmhpmiI",
        "outputId": "2da78046-28ea-4ed7-eb2a-4106301b0649"
      },
      "execution_count": null,
      "outputs": [
        {
          "output_type": "display_data",
          "data": {
            "text/plain": [
              "<Figure size 640x480 with 1 Axes>"
            ],
            "image/png": "[encoded data removed]"
          },
          "metadata": {}
        }
      ]
    },
    {
      "cell_type": "code",
      "source": [
        "_,score = model.evaluate(X_val, y_val)\n",
        "print(score)"
      ],
      "metadata": {
        "colab": {
          "base_uri": "https://localhost:8080/"
        },
        "id": "NnUvkNHsuDLA",
        "outputId": "b977f372-34f5-4077-ff82-c4db8de647bd"
      },
      "execution_count": null,
      "outputs": [
        {
          "output_type": "stream",
          "name": "stdout",
          "text": [
            "138/138 [==============================] - 8s 61ms/step - loss: 0.1798 - accuracy: 0.9549\n",
            "0.9548752903938293\n"
          ]
        }
      ]
    },
    {
      "cell_type": "code",
      "source": [
        "#model.save('malaria_model_v1.h5')"
      ],
      "metadata": {
        "id": "wzxytb-AIZuh"
      },
      "execution_count": null,
      "outputs": []
    },
    {
      "cell_type": "code",
      "source": [
        "#from tensorflow.keras.models import load_model\n",
        "\n",
        "#model = load_model('malaria_model_v1.h5')"
      ],
      "metadata": {
        "id": "E1cAGQOdIZ6B"
      },
      "execution_count": null,
      "outputs": []
    },
    {
      "cell_type": "code",
      "source": [
        "y_pred = model.predict(X_test)\n",
        "y_pred = y_pred.astype(int).reshape(-1,)\n",
        "y_test = y_test.astype(int).reshape(-1,)"
      ],
      "metadata": {
        "id": "Q0QK10WtuNnM",
        "colab": {
          "base_uri": "https://localhost:8080/"
        },
        "outputId": "31756582-9c54-4e37-fe36-d62bc3fb7bdf"
      },
      "execution_count": null,
      "outputs": [
        {
          "output_type": "stream",
          "name": "stdout",
          "text": [
            "173/173 [==============================] - 8s 44ms/step\n"
          ]
        }
      ]
    },
    {
      "cell_type": "code",
      "source": [
        "from sklearn.metrics import classification_report\n",
        "print(classification_report(y_test, y_pred))"
      ],
      "metadata": {
        "colab": {
          "base_uri": "https://localhost:8080/"
        },
        "id": "EAJLlPpF7uTm",
        "outputId": "6d61ef6b-d8b2-43a2-e54d-ebb47a7f906c"
      },
      "execution_count": null,
      "outputs": [
        {
          "output_type": "stream",
          "name": "stdout",
          "text": [
            "              precision    recall  f1-score   support\n",
            "\n",
            "           0       0.57      1.00      0.72      5512\n",
            "           1       1.00      0.24      0.39      5512\n",
            "\n",
            "    accuracy                           0.62     11024\n",
            "   macro avg       0.78      0.62      0.56     11024\n",
            "weighted avg       0.78      0.62      0.56     11024\n",
            "\n"
          ]
        }
      ]
    }
  ]
}