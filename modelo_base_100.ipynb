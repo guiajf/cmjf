{
  "nbformat": 4,
  "nbformat_minor": 0,
  "metadata": {
    "colab": {
      "provenance": [],
      "gpuType": "T4"
    },
    "kernelspec": {
      "name": "python3",
      "display_name": "Python 3"
    },
    "language_info": {
      "name": "python"
    },
    "accelerator": "GPU"
  },
  "cells": [
    {
      "cell_type": "code",
      "execution_count": null,
      "metadata": {
        "id": "7xXSKt4mbBIL"
      },
      "outputs": [],
      "source": [
        "import numpy as np\n",
        "import cv2\n",
        "import os\n",
        "from PIL import Image\n",
        "import tensorflow as tf"
      ]
    },
    {
      "cell_type": "code",
      "source": [
        "pasta = '/content/drive/MyDrive/ELT579/Problema4/imagens_celulas_1000/'\n",
        "\n",
        "positivas = os.listdir(pasta + 'positivos/')\n",
        "\n",
        "negativas = os.listdir(pasta + 'negativos/')"
      ],
      "metadata": {
        "id": "9zuSL3Asb2wh"
      },
      "execution_count": null,
      "outputs": []
    },
    {
      "cell_type": "code",
      "source": [
        "dataset = list()\n",
        "\n",
        "label = list()\n",
        "\n",
        "SIZE = 64\n",
        "\n",
        "for i, image_name in enumerate(positivas):\n",
        "  if(image_name.split('.')[1] == 'png'):\n",
        "    img = cv2.imread(pasta + 'positivos/' + image_name)\n",
        "    img = Image.fromarray(img, 'RGB')\n",
        "    img = img.resize((SIZE, SIZE))\n",
        "    dataset.append(np.array(img))\n",
        "    label.append(1)\n",
        "\n",
        "for i, image_name in enumerate(negativas):\n",
        "  if(image_name.split('.')[1] == 'png'):\n",
        "    img = cv2.imread(pasta + 'negativos/' + image_name)\n",
        "    img = Image.fromarray(img, 'RGB')\n",
        "    img = img.resize((SIZE, SIZE))\n",
        "    dataset.append(np.array(img))\n",
        "    label.append(0)"
      ],
      "metadata": {
        "id": "m_6LEadddCbM"
      },
      "execution_count": null,
      "outputs": []
    },
    {
      "cell_type": "code",
      "source": [
        "import matplotlib.pyplot as plt\n",
        "\n",
        "print('label = ', label[-2])\n",
        "\n",
        "print('imagem')\n",
        "plt.imshow(dataset[-2])"
      ],
      "metadata": {
        "colab": {
          "base_uri": "https://localhost:8080/",
          "height": 484
        },
        "id": "FloEBnQSxT3K",
        "outputId": "cb8075ec-e9c6-48db-ce2d-011a814e591e"
      },
      "execution_count": null,
      "outputs": [
        {
          "output_type": "stream",
          "name": "stdout",
          "text": [
            "label =  0\n",
            "imagem\n"
          ]
        },
        {
          "output_type": "execute_result",
          "data": {
            "text/plain": [
              "<matplotlib.image.AxesImage at 0x7be2dbd4be50>"
            ]
          },
          "metadata": {},
          "execution_count": 5
        },
        {
          "output_type": "display_data",
          "data": {
            "text/plain": [
              "<Figure size 640x480 with 1 Axes>"
            ],
            "image/png": "[encoded data removed]"
          },
          "metadata": {}
        }
      ]
    },
    {
      "cell_type": "code",
      "source": [
        "X = np.array(dataset)\n",
        "\n",
        "X = X/255.0\n",
        "\n",
        "y = tf.keras.utils.to_categorical(np.array(label))\n",
        "\n"
      ],
      "metadata": {
        "id": "caSO7Pvd1p85"
      },
      "execution_count": null,
      "outputs": []
    },
    {
      "cell_type": "code",
      "source": [
        "print(np.shape(X))"
      ],
      "metadata": {
        "colab": {
          "base_uri": "https://localhost:8080/"
        },
        "id": "VXwTRUhP2CJc",
        "outputId": "8de770bf-24de-4a8f-b068-c2ae2e72b770"
      },
      "execution_count": null,
      "outputs": [
        {
          "output_type": "stream",
          "name": "stdout",
          "text": [
            "(2000, 64, 64, 3)\n"
          ]
        }
      ]
    },
    {
      "cell_type": "code",
      "source": [
        "print(y)"
      ],
      "metadata": {
        "colab": {
          "base_uri": "https://localhost:8080/"
        },
        "id": "kFGhAe2417ON",
        "outputId": "8944e6b8-c5d5-4b05-fd0a-9b996df3cfe7"
      },
      "execution_count": null,
      "outputs": [
        {
          "output_type": "stream",
          "name": "stdout",
          "text": [
            "[[0. 1.]\n",
            " [0. 1.]\n",
            " [0. 1.]\n",
            " ...\n",
            " [1. 0.]\n",
            " [1. 0.]\n",
            " [1. 0.]]\n"
          ]
        }
      ]
    },
    {
      "cell_type": "code",
      "source": [
        "from sklearn.model_selection import train_test_split\n",
        "\n",
        "X_train, X_test, y_train, y_test   = train_test_split(X, y, test_size = 0.20, random_state = 0)"
      ],
      "metadata": {
        "id": "4GtqxTJH3m9Z"
      },
      "execution_count": null,
      "outputs": []
    },
    {
      "cell_type": "code",
      "source": [
        "print(np.shape(X_train))\n",
        "\n",
        "print(np.shape(y_train))"
      ],
      "metadata": {
        "colab": {
          "base_uri": "https://localhost:8080/"
        },
        "id": "hqc5VuBHfCfv",
        "outputId": "c70bfb24-779c-44ff-8b88-7b37e4a2c6c5"
      },
      "execution_count": null,
      "outputs": [
        {
          "output_type": "stream",
          "name": "stdout",
          "text": [
            "(1600, 64, 64, 3)\n",
            "(1600, 2)\n"
          ]
        }
      ]
    },
    {
      "cell_type": "code",
      "source": [
        "TAM = (SIZE, SIZE, 3)\n",
        "\n",
        "inp = tf.keras.Input(shape = TAM)\n",
        "\n",
        "conv1 = tf.keras.layers.Conv2D(32, kernel_size = (3,3), activation = 'relu', padding = 'same')(inp)\n",
        "pool1 = tf.keras.layers.MaxPooling2D(pool_size = (2,2))(conv1)\n",
        "drop1 = tf.keras.layers.Dropout(rate = 0.2)(pool1)\n",
        "\n",
        "conv2 = tf.keras.layers.Conv2D(32, kernel_size = (3,3), activation = 'relu', padding = 'same')(drop1)\n",
        "pool2 = tf.keras.layers.MaxPooling2D(pool_size = (2,2))(conv2)\n",
        "drop2 = tf.keras.layers.Dropout(rate = 0.2)(pool2)\n",
        "\n",
        "conv3 = tf.keras.layers.Conv2D(32, kernel_size = (3,3), activation = 'relu', padding = 'same')(drop2)\n",
        "pool3 = tf.keras.layers.MaxPooling2D(pool_size = (2,2))(conv3)\n",
        "drop3 = tf.keras.layers.Dropout(rate = 0.2)(pool3)\n",
        "\n",
        "flat = tf.keras.layers.Flatten()(drop3)\n",
        "\n",
        "dense1 = tf.keras.layers.Dense(512, activation = 'relu')(flat)\n",
        "drop4 = tf.keras.layers.Dropout(rate = 0.2)(dense1)\n",
        "\n",
        "dense2 = tf.keras.layers.Dense(256, activation = 'relu')(drop4)\n",
        "drop5 = tf.keras.layers.Dropout(rate = 0.2)(dense2)\n",
        "\n",
        "out = tf.keras.layers.Dense(2, activation = 'sigmoid')(drop5)\n",
        "\n",
        "model = tf.keras.Model(inputs = inp, outputs = out)\n",
        "\n",
        "opt = tf.keras.optimizers.Adam(learning_rate = 0.001)\n",
        "\n",
        "model.compile(optimizer = opt, loss = 'binary_crossentropy', metrics = 'accuracy')\n",
        "\n",
        "model.summary()\n"
      ],
      "metadata": {
        "colab": {
          "base_uri": "https://localhost:8080/"
        },
        "id": "ArfZAKLIicpV",
        "outputId": "b4d8bd3a-d41a-42db-8a85-2c45a09055fb"
      },
      "execution_count": null,
      "outputs": [
        {
          "output_type": "stream",
          "name": "stdout",
          "text": [
            "Model: \"model_8\"\n",
            "_________________________________________________________________\n",
            " Layer (type)                Output Shape              Param #   \n",
            "=================================================================\n",
            " input_12 (InputLayer)       [(None, 64, 64, 3)]       0         \n",
            "                                                                 \n",
            " conv2d_27 (Conv2D)          (None, 64, 64, 32)        896       \n",
            "                                                                 \n",
            " max_pooling2d_25 (MaxPooli  (None, 32, 32, 32)        0         \n",
            " ng2D)                                                           \n",
            "                                                                 \n",
            " dropout_41 (Dropout)        (None, 32, 32, 32)        0         \n",
            "                                                                 \n",
            " conv2d_28 (Conv2D)          (None, 32, 32, 32)        9248      \n",
            "                                                                 \n",
            " max_pooling2d_26 (MaxPooli  (None, 16, 16, 32)        0         \n",
            " ng2D)                                                           \n",
            "                                                                 \n",
            " dropout_42 (Dropout)        (None, 16, 16, 32)        0         \n",
            "                                                                 \n",
            " conv2d_29 (Conv2D)          (None, 16, 16, 32)        9248      \n",
            "                                                                 \n",
            " max_pooling2d_27 (MaxPooli  (None, 8, 8, 32)          0         \n",
            " ng2D)                                                           \n",
            "                                                                 \n",
            " dropout_43 (Dropout)        (None, 8, 8, 32)          0         \n",
            "                                                                 \n",
            " flatten_8 (Flatten)         (None, 2048)              0         \n",
            "                                                                 \n",
            " dense_24 (Dense)            (None, 512)               1049088   \n",
            "                                                                 \n",
            " dropout_44 (Dropout)        (None, 512)               0         \n",
            "                                                                 \n",
            " dense_25 (Dense)            (None, 256)               131328    \n",
            "                                                                 \n",
            " dropout_45 (Dropout)        (None, 256)               0         \n",
            "                                                                 \n",
            " dense_26 (Dense)            (None, 2)                 514       \n",
            "                                                                 \n",
            "=================================================================\n",
            "Total params: 1200322 (4.58 MB)\n",
            "Trainable params: 1200322 (4.58 MB)\n",
            "Non-trainable params: 0 (0.00 Byte)\n",
            "_________________________________________________________________\n"
          ]
        }
      ]
    },
    {
      "cell_type": "code",
      "source": [
        "history = model.fit(X_train, y_train, batch_size = 32, validation_split = 0.1, epochs = 100, verbose = 1)"
      ],
      "metadata": {
        "colab": {
          "base_uri": "https://localhost:8080/"
        },
        "id": "3_MfrIYFmyL3",
        "outputId": "2fe54338-ec3c-40f2-bc06-b920482ef8a6"
      },
      "execution_count": null,
      "outputs": [
        {
          "output_type": "stream",
          "name": "stdout",
          "text": [
            "Epoch 1/100\n",
            "45/45 [==============================] - 3s 13ms/step - loss: 0.7027 - accuracy: 0.5069 - val_loss: 0.6838 - val_accuracy: 0.6313\n",
            "Epoch 2/100\n",
            "45/45 [==============================] - 0s 8ms/step - loss: 0.6808 - accuracy: 0.5389 - val_loss: 0.6808 - val_accuracy: 0.4500\n",
            "Epoch 3/100\n",
            "45/45 [==============================] - 0s 7ms/step - loss: 0.6089 - accuracy: 0.6618 - val_loss: 0.5442 - val_accuracy: 0.7750\n",
            "Epoch 4/100\n",
            "45/45 [==============================] - 0s 7ms/step - loss: 0.6068 - accuracy: 0.6625 - val_loss: 0.5361 - val_accuracy: 0.7000\n",
            "Epoch 5/100\n",
            "45/45 [==============================] - 0s 7ms/step - loss: 0.5995 - accuracy: 0.6778 - val_loss: 0.5642 - val_accuracy: 0.7000\n",
            "Epoch 6/100\n",
            "45/45 [==============================] - 0s 7ms/step - loss: 0.5532 - accuracy: 0.7014 - val_loss: 0.5260 - val_accuracy: 0.7625\n",
            "Epoch 7/100\n",
            "45/45 [==============================] - 0s 7ms/step - loss: 0.5913 - accuracy: 0.6687 - val_loss: 0.5437 - val_accuracy: 0.7563\n",
            "Epoch 8/100\n",
            "45/45 [==============================] - 0s 7ms/step - loss: 0.5536 - accuracy: 0.7035 - val_loss: 0.5664 - val_accuracy: 0.7000\n",
            "Epoch 9/100\n",
            "45/45 [==============================] - 0s 7ms/step - loss: 0.5735 - accuracy: 0.6826 - val_loss: 0.5284 - val_accuracy: 0.7688\n",
            "Epoch 10/100\n",
            "45/45 [==============================] - 0s 7ms/step - loss: 0.5725 - accuracy: 0.6840 - val_loss: 0.4989 - val_accuracy: 0.7563\n",
            "Epoch 11/100\n",
            "45/45 [==============================] - 0s 7ms/step - loss: 0.5444 - accuracy: 0.7069 - val_loss: 0.5069 - val_accuracy: 0.7937\n",
            "Epoch 12/100\n",
            "45/45 [==============================] - 0s 7ms/step - loss: 0.5106 - accuracy: 0.7486 - val_loss: 0.4664 - val_accuracy: 0.7812\n",
            "Epoch 13/100\n",
            "45/45 [==============================] - 0s 7ms/step - loss: 0.4978 - accuracy: 0.7507 - val_loss: 0.4908 - val_accuracy: 0.7812\n",
            "Epoch 14/100\n",
            "45/45 [==============================] - 0s 7ms/step - loss: 0.4505 - accuracy: 0.7924 - val_loss: 0.4086 - val_accuracy: 0.8000\n",
            "Epoch 15/100\n",
            "45/45 [==============================] - 0s 7ms/step - loss: 0.3503 - accuracy: 0.8451 - val_loss: 0.2515 - val_accuracy: 0.9375\n",
            "Epoch 16/100\n",
            "45/45 [==============================] - 0s 7ms/step - loss: 0.2404 - accuracy: 0.9097 - val_loss: 0.1889 - val_accuracy: 0.9187\n",
            "Epoch 17/100\n",
            "45/45 [==============================] - 0s 7ms/step - loss: 0.1821 - accuracy: 0.9340 - val_loss: 0.1573 - val_accuracy: 0.9375\n",
            "Epoch 18/100\n",
            "45/45 [==============================] - 0s 7ms/step - loss: 0.1375 - accuracy: 0.9535 - val_loss: 0.1081 - val_accuracy: 0.9563\n",
            "Epoch 19/100\n",
            "45/45 [==============================] - 0s 7ms/step - loss: 0.1214 - accuracy: 0.9590 - val_loss: 0.1168 - val_accuracy: 0.9438\n",
            "Epoch 20/100\n",
            "45/45 [==============================] - 0s 7ms/step - loss: 0.1089 - accuracy: 0.9576 - val_loss: 0.0877 - val_accuracy: 0.9625\n",
            "Epoch 21/100\n",
            "45/45 [==============================] - 0s 7ms/step - loss: 0.0935 - accuracy: 0.9674 - val_loss: 0.1047 - val_accuracy: 0.9625\n",
            "Epoch 22/100\n",
            "45/45 [==============================] - 0s 7ms/step - loss: 0.1043 - accuracy: 0.9653 - val_loss: 0.1042 - val_accuracy: 0.9563\n",
            "Epoch 23/100\n",
            "45/45 [==============================] - 0s 7ms/step - loss: 0.0722 - accuracy: 0.9743 - val_loss: 0.0671 - val_accuracy: 0.9750\n",
            "Epoch 24/100\n",
            "45/45 [==============================] - 0s 7ms/step - loss: 0.1001 - accuracy: 0.9715 - val_loss: 0.1443 - val_accuracy: 0.9375\n",
            "Epoch 25/100\n",
            "45/45 [==============================] - 0s 7ms/step - loss: 0.0728 - accuracy: 0.9750 - val_loss: 0.1040 - val_accuracy: 0.9750\n",
            "Epoch 26/100\n",
            "45/45 [==============================] - 0s 8ms/step - loss: 0.0639 - accuracy: 0.9785 - val_loss: 0.0850 - val_accuracy: 0.9750\n",
            "Epoch 27/100\n",
            "45/45 [==============================] - 0s 7ms/step - loss: 0.0579 - accuracy: 0.9806 - val_loss: 0.0807 - val_accuracy: 0.9625\n",
            "Epoch 28/100\n",
            "45/45 [==============================] - 0s 7ms/step - loss: 0.0383 - accuracy: 0.9889 - val_loss: 0.0646 - val_accuracy: 0.9688\n",
            "Epoch 29/100\n",
            "45/45 [==============================] - 0s 7ms/step - loss: 0.0545 - accuracy: 0.9778 - val_loss: 0.1895 - val_accuracy: 0.9500\n",
            "Epoch 30/100\n",
            "45/45 [==============================] - 0s 7ms/step - loss: 0.0606 - accuracy: 0.9799 - val_loss: 0.0514 - val_accuracy: 0.9875\n",
            "Epoch 31/100\n",
            "45/45 [==============================] - 0s 7ms/step - loss: 0.0420 - accuracy: 0.9868 - val_loss: 0.0860 - val_accuracy: 0.9625\n",
            "Epoch 32/100\n",
            "45/45 [==============================] - 0s 9ms/step - loss: 0.0466 - accuracy: 0.9819 - val_loss: 0.1126 - val_accuracy: 0.9625\n",
            "Epoch 33/100\n",
            "45/45 [==============================] - 0s 9ms/step - loss: 0.0520 - accuracy: 0.9792 - val_loss: 0.0903 - val_accuracy: 0.9688\n",
            "Epoch 34/100\n",
            "45/45 [==============================] - 0s 9ms/step - loss: 0.0405 - accuracy: 0.9889 - val_loss: 0.1545 - val_accuracy: 0.9625\n",
            "Epoch 35/100\n",
            "45/45 [==============================] - 0s 10ms/step - loss: 0.0378 - accuracy: 0.9896 - val_loss: 0.1338 - val_accuracy: 0.9625\n",
            "Epoch 36/100\n",
            "45/45 [==============================] - 0s 8ms/step - loss: 0.0168 - accuracy: 0.9951 - val_loss: 0.1057 - val_accuracy: 0.9750\n",
            "Epoch 37/100\n",
            "45/45 [==============================] - 0s 9ms/step - loss: 0.0482 - accuracy: 0.9847 - val_loss: 0.0629 - val_accuracy: 0.9750\n",
            "Epoch 38/100\n",
            "45/45 [==============================] - 0s 9ms/step - loss: 0.0269 - accuracy: 0.9903 - val_loss: 0.1753 - val_accuracy: 0.9688\n",
            "Epoch 39/100\n",
            "45/45 [==============================] - 0s 8ms/step - loss: 0.0173 - accuracy: 0.9937 - val_loss: 0.0701 - val_accuracy: 0.9750\n",
            "Epoch 40/100\n",
            "45/45 [==============================] - 0s 9ms/step - loss: 0.0163 - accuracy: 0.9944 - val_loss: 0.2283 - val_accuracy: 0.9500\n",
            "Epoch 41/100\n",
            "45/45 [==============================] - 0s 7ms/step - loss: 0.0163 - accuracy: 0.9944 - val_loss: 0.0903 - val_accuracy: 0.9812\n",
            "Epoch 42/100\n",
            "45/45 [==============================] - 0s 6ms/step - loss: 0.0117 - accuracy: 0.9958 - val_loss: 0.1377 - val_accuracy: 0.9563\n",
            "Epoch 43/100\n",
            "45/45 [==============================] - 0s 7ms/step - loss: 0.0159 - accuracy: 0.9931 - val_loss: 0.1954 - val_accuracy: 0.9563\n",
            "Epoch 44/100\n",
            "45/45 [==============================] - 0s 7ms/step - loss: 0.0254 - accuracy: 0.9903 - val_loss: 0.1683 - val_accuracy: 0.9688\n",
            "Epoch 45/100\n",
            "45/45 [==============================] - 0s 7ms/step - loss: 0.0334 - accuracy: 0.9882 - val_loss: 0.1674 - val_accuracy: 0.9500\n",
            "Epoch 46/100\n",
            "45/45 [==============================] - 0s 7ms/step - loss: 0.0323 - accuracy: 0.9917 - val_loss: 0.1294 - val_accuracy: 0.9688\n",
            "Epoch 47/100\n",
            "45/45 [==============================] - 0s 7ms/step - loss: 0.0081 - accuracy: 0.9986 - val_loss: 0.0875 - val_accuracy: 0.9812\n",
            "Epoch 48/100\n",
            "45/45 [==============================] - 0s 6ms/step - loss: 0.0056 - accuracy: 0.9965 - val_loss: 0.1769 - val_accuracy: 0.9688\n",
            "Epoch 49/100\n",
            "45/45 [==============================] - 0s 7ms/step - loss: 0.0084 - accuracy: 0.9979 - val_loss: 0.1306 - val_accuracy: 0.9625\n",
            "Epoch 50/100\n",
            "45/45 [==============================] - 0s 7ms/step - loss: 0.0078 - accuracy: 0.9965 - val_loss: 0.1019 - val_accuracy: 0.9688\n",
            "Epoch 51/100\n",
            "45/45 [==============================] - 0s 7ms/step - loss: 0.0113 - accuracy: 0.9965 - val_loss: 0.1667 - val_accuracy: 0.9688\n",
            "Epoch 52/100\n",
            "45/45 [==============================] - 0s 7ms/step - loss: 0.0040 - accuracy: 0.9993 - val_loss: 0.1208 - val_accuracy: 0.9812\n",
            "Epoch 53/100\n",
            "45/45 [==============================] - 0s 7ms/step - loss: 0.0078 - accuracy: 0.9972 - val_loss: 0.0816 - val_accuracy: 0.9875\n",
            "Epoch 54/100\n",
            "45/45 [==============================] - 0s 7ms/step - loss: 0.0241 - accuracy: 0.9931 - val_loss: 0.1106 - val_accuracy: 0.9750\n",
            "Epoch 55/100\n",
            "45/45 [==============================] - 0s 7ms/step - loss: 0.0049 - accuracy: 0.9986 - val_loss: 0.1294 - val_accuracy: 0.9812\n",
            "Epoch 56/100\n",
            "45/45 [==============================] - 0s 7ms/step - loss: 0.0136 - accuracy: 0.9937 - val_loss: 0.1139 - val_accuracy: 0.9688\n",
            "Epoch 57/100\n",
            "45/45 [==============================] - 0s 7ms/step - loss: 0.0544 - accuracy: 0.9882 - val_loss: 0.1993 - val_accuracy: 0.9625\n",
            "Epoch 58/100\n",
            "45/45 [==============================] - 0s 7ms/step - loss: 0.0238 - accuracy: 0.9924 - val_loss: 0.2080 - val_accuracy: 0.9625\n",
            "Epoch 59/100\n",
            "45/45 [==============================] - 0s 7ms/step - loss: 0.0175 - accuracy: 0.9931 - val_loss: 0.1275 - val_accuracy: 0.9812\n",
            "Epoch 60/100\n",
            "45/45 [==============================] - 0s 7ms/step - loss: 0.0180 - accuracy: 0.9924 - val_loss: 0.1538 - val_accuracy: 0.9688\n",
            "Epoch 61/100\n",
            "45/45 [==============================] - 0s 7ms/step - loss: 0.0091 - accuracy: 0.9951 - val_loss: 0.2112 - val_accuracy: 0.9563\n",
            "Epoch 62/100\n",
            "45/45 [==============================] - 0s 7ms/step - loss: 0.0111 - accuracy: 0.9972 - val_loss: 0.2047 - val_accuracy: 0.9625\n",
            "Epoch 63/100\n",
            "45/45 [==============================] - 0s 7ms/step - loss: 0.0036 - accuracy: 0.9986 - val_loss: 0.2580 - val_accuracy: 0.9688\n",
            "Epoch 64/100\n",
            "45/45 [==============================] - 0s 7ms/step - loss: 0.0032 - accuracy: 0.9986 - val_loss: 0.1132 - val_accuracy: 0.9750\n",
            "Epoch 65/100\n",
            "45/45 [==============================] - 0s 7ms/step - loss: 0.0059 - accuracy: 0.9979 - val_loss: 0.2453 - val_accuracy: 0.9625\n",
            "Epoch 66/100\n",
            "45/45 [==============================] - 0s 7ms/step - loss: 0.0158 - accuracy: 0.9944 - val_loss: 0.2782 - val_accuracy: 0.9625\n",
            "Epoch 67/100\n",
            "45/45 [==============================] - 0s 7ms/step - loss: 0.0037 - accuracy: 0.9986 - val_loss: 0.1368 - val_accuracy: 0.9750\n",
            "Epoch 68/100\n",
            "45/45 [==============================] - 0s 7ms/step - loss: 0.0119 - accuracy: 0.9979 - val_loss: 0.2426 - val_accuracy: 0.9563\n",
            "Epoch 69/100\n",
            "45/45 [==============================] - 0s 7ms/step - loss: 0.0074 - accuracy: 0.9972 - val_loss: 0.2212 - val_accuracy: 0.9625\n",
            "Epoch 70/100\n",
            "45/45 [==============================] - 0s 7ms/step - loss: 0.0031 - accuracy: 0.9986 - val_loss: 0.1576 - val_accuracy: 0.9750\n",
            "Epoch 71/100\n",
            "45/45 [==============================] - 0s 7ms/step - loss: 0.0056 - accuracy: 0.9972 - val_loss: 0.2162 - val_accuracy: 0.9688\n",
            "Epoch 72/100\n",
            "45/45 [==============================] - 0s 8ms/step - loss: 0.0130 - accuracy: 0.9965 - val_loss: 0.1588 - val_accuracy: 0.9750\n",
            "Epoch 73/100\n",
            "45/45 [==============================] - 0s 10ms/step - loss: 0.0029 - accuracy: 0.9993 - val_loss: 0.1209 - val_accuracy: 0.9875\n",
            "Epoch 74/100\n",
            "45/45 [==============================] - 0s 10ms/step - loss: 0.0257 - accuracy: 0.9931 - val_loss: 0.2009 - val_accuracy: 0.9688\n",
            "Epoch 75/100\n",
            "45/45 [==============================] - 0s 10ms/step - loss: 0.0053 - accuracy: 0.9986 - val_loss: 0.1481 - val_accuracy: 0.9688\n",
            "Epoch 76/100\n",
            "45/45 [==============================] - 0s 9ms/step - loss: 0.0060 - accuracy: 0.9972 - val_loss: 0.2189 - val_accuracy: 0.9625\n",
            "Epoch 77/100\n",
            "45/45 [==============================] - 0s 8ms/step - loss: 0.0167 - accuracy: 0.9944 - val_loss: 0.3256 - val_accuracy: 0.9563\n",
            "Epoch 78/100\n",
            "45/45 [==============================] - 0s 9ms/step - loss: 0.0065 - accuracy: 0.9979 - val_loss: 0.1820 - val_accuracy: 0.9625\n",
            "Epoch 79/100\n",
            "45/45 [==============================] - 0s 9ms/step - loss: 0.0032 - accuracy: 0.9986 - val_loss: 0.1914 - val_accuracy: 0.9625\n",
            "Epoch 80/100\n",
            "45/45 [==============================] - 0s 9ms/step - loss: 0.0036 - accuracy: 0.9986 - val_loss: 0.2199 - val_accuracy: 0.9625\n",
            "Epoch 81/100\n",
            "45/45 [==============================] - 0s 9ms/step - loss: 0.0026 - accuracy: 0.9993 - val_loss: 0.2695 - val_accuracy: 0.9625\n",
            "Epoch 82/100\n",
            "45/45 [==============================] - 0s 7ms/step - loss: 0.0218 - accuracy: 0.9931 - val_loss: 0.1173 - val_accuracy: 0.9750\n",
            "Epoch 83/100\n",
            "45/45 [==============================] - 0s 7ms/step - loss: 0.0113 - accuracy: 0.9958 - val_loss: 0.1665 - val_accuracy: 0.9625\n",
            "Epoch 84/100\n",
            "45/45 [==============================] - 0s 7ms/step - loss: 0.0122 - accuracy: 0.9951 - val_loss: 0.2499 - val_accuracy: 0.9563\n",
            "Epoch 85/100\n",
            "45/45 [==============================] - 0s 7ms/step - loss: 0.0113 - accuracy: 0.9965 - val_loss: 0.3129 - val_accuracy: 0.9625\n",
            "Epoch 86/100\n",
            "45/45 [==============================] - 0s 7ms/step - loss: 0.0402 - accuracy: 0.9868 - val_loss: 0.3058 - val_accuracy: 0.9563\n",
            "Epoch 87/100\n",
            "45/45 [==============================] - 0s 7ms/step - loss: 0.0208 - accuracy: 0.9944 - val_loss: 0.2563 - val_accuracy: 0.9563\n",
            "Epoch 88/100\n",
            "45/45 [==============================] - 0s 7ms/step - loss: 0.0086 - accuracy: 0.9986 - val_loss: 0.2172 - val_accuracy: 0.9688\n",
            "Epoch 89/100\n",
            "45/45 [==============================] - 0s 7ms/step - loss: 0.0017 - accuracy: 0.9993 - val_loss: 0.1325 - val_accuracy: 0.9750\n",
            "Epoch 90/100\n",
            "45/45 [==============================] - 0s 7ms/step - loss: 0.0061 - accuracy: 0.9979 - val_loss: 0.2258 - val_accuracy: 0.9688\n",
            "Epoch 91/100\n",
            "45/45 [==============================] - 0s 7ms/step - loss: 0.0123 - accuracy: 0.9979 - val_loss: 0.1801 - val_accuracy: 0.9688\n",
            "Epoch 92/100\n",
            "45/45 [==============================] - 0s 7ms/step - loss: 0.0024 - accuracy: 0.9993 - val_loss: 0.2084 - val_accuracy: 0.9688\n",
            "Epoch 93/100\n",
            "45/45 [==============================] - 0s 7ms/step - loss: 0.0031 - accuracy: 0.9979 - val_loss: 0.1144 - val_accuracy: 0.9750\n",
            "Epoch 94/100\n",
            "45/45 [==============================] - 0s 7ms/step - loss: 0.0067 - accuracy: 0.9972 - val_loss: 0.1820 - val_accuracy: 0.9563\n",
            "Epoch 95/100\n",
            "45/45 [==============================] - 0s 7ms/step - loss: 0.0479 - accuracy: 0.9875 - val_loss: 0.1867 - val_accuracy: 0.9500\n",
            "Epoch 96/100\n",
            "45/45 [==============================] - 0s 7ms/step - loss: 0.0056 - accuracy: 0.9986 - val_loss: 0.2008 - val_accuracy: 0.9563\n",
            "Epoch 97/100\n",
            "45/45 [==============================] - 0s 7ms/step - loss: 0.0128 - accuracy: 0.9951 - val_loss: 0.2539 - val_accuracy: 0.9625\n",
            "Epoch 98/100\n",
            "45/45 [==============================] - 0s 7ms/step - loss: 0.0069 - accuracy: 0.9979 - val_loss: 0.2859 - val_accuracy: 0.9688\n",
            "Epoch 99/100\n",
            "45/45 [==============================] - 0s 7ms/step - loss: 0.0019 - accuracy: 1.0000 - val_loss: 0.2097 - val_accuracy: 0.9688\n",
            "Epoch 100/100\n",
            "45/45 [==============================] - 0s 7ms/step - loss: 5.5817e-04 - accuracy: 1.0000 - val_loss: 0.1797 - val_accuracy: 0.9750\n"
          ]
        }
      ]
    },
    {
      "cell_type": "code",
      "source": [
        "loss = history.history['accuracy']\n",
        "val_loss = history.history['val_accuracy']\n",
        "\n",
        "epochs = range(1, len(loss) + 1)\n",
        "\n",
        "plt.plot(epochs, loss, 'y', label = \"Treinamento\")\n",
        "plt.plot(epochs, val_loss, 'r', label = \"Validação\")\n",
        "\n",
        "plt.title(\"Treinamento vs validação\")\n",
        "plt.xlabel(\"Épocas\")\n",
        "plt.ylabel(\"Acurácia global\")\n",
        "plt.legend()\n",
        "\n",
        "plt.show()"
      ],
      "metadata": {
        "colab": {
          "base_uri": "https://localhost:8080/",
          "height": 474
        },
        "id": "NWXfMpmhpmiI",
        "outputId": "e6240658-0a8d-497c-f296-f899895bba68"
      },
      "execution_count": null,
      "outputs": [
        {
          "output_type": "display_data",
          "data": {
            "text/plain": [
              "<Figure size 640x480 with 1 Axes>"
            ],
            "image/png": "[encoded data removed]"
          },
          "metadata": {}
        }
      ]
    },
    {
      "cell_type": "code",
      "source": [
        "model.save('malaria_model.h5')"
      ],
      "metadata": {
        "id": "UYapfZC7tknV"
      },
      "execution_count": null,
      "outputs": []
    },
    {
      "cell_type": "code",
      "source": [
        "from tensorflow.keras.models import load_model\n",
        "\n",
        "model = load_model('malaria_model.h5')"
      ],
      "metadata": {
        "id": "n0zAGWESttX-"
      },
      "execution_count": null,
      "outputs": []
    },
    {
      "cell_type": "code",
      "source": [
        "_,score = model.evaluate(X_test, y_test)\n",
        "print(score)"
      ],
      "metadata": {
        "colab": {
          "base_uri": "https://localhost:8080/"
        },
        "id": "NnUvkNHsuDLA",
        "outputId": "3807d707-b475-4571-e951-d03cfef666dc"
      },
      "execution_count": null,
      "outputs": [
        {
          "output_type": "stream",
          "name": "stdout",
          "text": [
            "13/13 [==============================] - 0s 4ms/step - loss: 0.4626 - accuracy: 0.9500\n",
            "0.949999988079071\n"
          ]
        }
      ]
    },
    {
      "cell_type": "code",
      "source": [],
      "metadata": {
        "id": "Q0QK10WtuNnM"
      },
      "execution_count": null,
      "outputs": []
    }
  ]
}